{
 "cells": [
  {
   "cell_type": "markdown",
   "id": "668b2b25-3ad4-4a37-bf3f-9eed25b476f5",
   "metadata": {
    "editable": true,
    "slideshow": {
     "slide_type": "slide"
    },
    "tags": []
   },
   "source": [
    "# Course 1: Data Collection from the Internet and Social Media for Data Analysts\n",
    "\n",
    "## Scenario:\n",
    "We're tasked with collecting and analyzing data from social media platforms or websites to identify emerging trends."
   ]
  },
  {
   "cell_type": "markdown",
   "id": "3f8434cd-1e7c-4cc9-a1a3-c7921e6d38f4",
   "metadata": {
    "editable": true,
    "slideshow": {
     "slide_type": "slide"
    },
    "tags": []
   },
   "source": [
    "### Section 1: Introduction to Web Scraping and API Fetching\n",
    "\n",
    "**Text Content:**\n",
    "Web scraping and API fetching are cornerstone techniques for data collection. Web scraping involves programmatically gathering data from websites, while API fetching is the process of using an application programming interface (API) to retrieve data.\n",
    "\n",
    "**Python Code:**\n",
    "```python\n",
    "# Sample code to perform a simple web scraping using requests\n",
    "import requests\n",
    "from bs4 import BeautifulSoup\n",
    "\n",
    "url = 'http://example.com'\n",
    "response = requests.get(url)\n",
    "soup = BeautifulSoup(response.text, 'html.parser')\n",
    "\n",
    "print(soup.prettify())  # Prints the structured HTML of the page\n",
    "```"
   ]
  },
  {
   "cell_type": "markdown",
   "id": "9e859a3b-b417-46ad-bc03-a8a3a11335c7",
   "metadata": {
    "editable": true,
    "slideshow": {
     "slide_type": "slide"
    },
    "tags": []
   },
   "source": [
    "### Section 2: Setting up Python and Playwright Environment\n",
    "\n",
    "**Text Content:**\n",
    "Setting up a proper environment with Python and Playwright is essential for reliable scraping. Playwright is a Python library for browser automation.\n",
    "\n",
    "**Python Code:**\n",
    "```python\n",
    "# Installation commands (run in terminal)\n",
    "conda config --add channels conda-forge\n",
    "conda config --add channels microsoft\n",
    "conda install playwright\n",
    "playwright install\n",
    "\n",
    "# Sample code to open a webpage with Playwright\n",
    "from playwright.sync_api import sync_playwright\n",
    "\n",
    "with sync_playwright() as p:\n",
    "    browser = p.chromium.launch(headless=False)\n",
    "    page = browser.new_page()\n",
    "    page.goto('http://example.com')\n",
    "    browser.close()\n",
    "```"
   ]
  },
  {
   "cell_type": "markdown",
   "id": "4855fade-56b0-47e5-a6e1-a5cbb1ca07dc",
   "metadata": {
    "editable": true,
    "jp-MarkdownHeadingCollapsed": true,
    "slideshow": {
     "slide_type": "slide"
    },
    "tags": []
   },
   "source": [
    "### Section 3: Basic Concepts of HTML, CSS, and JavaScript for Scraping\n",
    "\n",
    "**Text Content:**\n",
    "Understanding the structure of web pages using HTML, styling with CSS, and dynamic content manipulation with JavaScript is crucial for effective scraping.\n",
    "\n",
    "**Python Code:**\n",
    "```python\n",
    "# Sample code to select an element by its ID\n",
    "element = soup.find(id='elementId')\n",
    "print(element.text)  # Prints the text within the selected element\n",
    "```\n",
    "\n"
   ]
  },
  {
   "cell_type": "markdown",
   "id": "1cd6ace9-404d-4ebb-a0bf-e858c5dfbc93",
   "metadata": {
    "editable": true,
    "jp-MarkdownHeadingCollapsed": true,
    "slideshow": {
     "slide_type": "slide"
    },
    "tags": []
   },
   "source": [
    "### Section 4: Introduction to Python Requests and APIs\n",
    "\n",
    "**Text Content:**\n",
    "The Python requests library is simple yet powerful, ideal for making HTTP requests to APIs.\n",
    "\n",
    "**Python Code:**\n",
    "```python\n",
    "# Sample code to make a GET request to an API\n",
    "response = requests.get('https://api.example.com/data')\n",
    "data = response.json()\n",
    "print(data)\n",
    "```\n",
    "\n"
   ]
  },
  {
   "cell_type": "markdown",
   "id": "303b62af-d3e7-44ee-9879-8d60614bf47b",
   "metadata": {
    "editable": true,
    "slideshow": {
     "slide_type": "slide"
    },
    "tags": []
   },
   "source": [
    "### Section 5: Authentication and Handling API Limits\n",
    "\n",
    "**Text Content:**\n",
    "Many APIs require authentication and have rate limits to control access.\n",
    "\n",
    "**Python Code:**\n",
    "```python\n",
    "# Sample code for authenticated API request\n",
    "headers = {\n",
    "    'Authorization': 'Bearer YOUR_ACCESS_TOKEN'\n",
    "}\n",
    "response = requests.get('https://api.example.com/protected-data', headers=headers)\n",
    "print(response.json())\n",
    "```\n",
    "\n"
   ]
  },
  {
   "cell_type": "markdown",
   "id": "1cc6f352-48fc-49f6-bd06-f52a2a6142c0",
   "metadata": {
    "editable": true,
    "slideshow": {
     "slide_type": "slide"
    },
    "tags": []
   },
   "source": [
    "### Section 6: Data Collection from Social Media Platforms\n",
    "\n",
    "**Text Content:**\n",
    "Social media platforms offer APIs for data collection, often providing rich datasets.\n",
    "\n",
    "**Python Code:**\n",
    "```python\n",
    "# Sample Twitter API request using Tweepy\n",
    "import tweepy\n",
    "\n",
    "client = tweepy.Client(bearer_token='YOUR_BEARER_TOKEN')\n",
    "tweets = client.search_recent_tweets(query='environmental activism', max_results=100)\n",
    "\n",
    "for tweet in tweets.data:\n",
    "    print(tweet.text)\n",
    "```\n",
    "\n"
   ]
  },
  {
   "cell_type": "markdown",
   "id": "33ecf9bd-ed6a-4d8f-ac0b-9dff92ddbfe0",
   "metadata": {
    "editable": true,
    "slideshow": {
     "slide_type": "slide"
    },
    "tags": []
   },
   "source": [
    "### Section 7: Cleaning and Preprocessing Scraped Data\n",
    "\n",
    "**Text Content:**\n",
    "Raw data needs cleaning and preprocessing to be useful for analysis.\n",
    "\n",
    "**Python Code:**\n",
    "```python\n",
    "import pandas as pd\n",
    "\n",
    "# Assume 'raw_data' is a list of dictionaries fetched from social media\n",
    "df = pd.DataFrame(raw_data)\n",
    "df['clean_text'] = df['text'].str.replace('[^a-zA-Z ]', '')  # Removes non-alphabetic characters\n",
    "```\n",
    "\n"
   ]
  },
  {
   "cell_type": "markdown",
   "id": "b61258fe-ef3a-4348-b74c-aea677e67d84",
   "metadata": {
    "editable": true,
    "slideshow": {
     "slide_type": "slide"
    },
    "tags": []
   },
   "source": [
    "### Section 8: Storing and Organizing Collected Data\n",
    "\n",
    "**Text Content:**\n",
    "Efficient data storage and organization are key for handling large datasets.\n",
    "\n",
    "**Python Code:**\n",
    "```python\n",
    "# Sample code to store data in a CSV file using Pandas\n",
    "df.to_csv('collected_data.csv', index=False)\n",
    "```\n",
    "\n",
    "\n"
   ]
  },
  {
   "cell_type": "markdown",
   "id": "3955db01-bc0f-4e29-be25-fcc7a90e21c3",
   "metadata": {
    "editable": true,
    "slideshow": {
     "slide_type": "slide"
    },
    "tags": []
   },
   "source": [
    "### Section 9: Ethical Considerations and Legalities of Data Scraping\n",
    "\n",
    "**Text Content:**\n",
    "Ethical scraping involves respecting user privacy and website terms, as well as adhering to legal constraints like the GDPR.\n",
    "\n",
    "**Python Code:**\n",
    "No code for this section, as it focuses on legal theory and best practices.\n",
    "\n"
   ]
  },
  {
   "cell_type": "markdown",
   "id": "6ee8ebea-0d5e-44b4-961c-082379a8f856",
   "metadata": {
    "editable": true,
    "slideshow": {
     "slide_type": "slide"
    },
    "tags": []
   },
   "source": [
    "### Section 10: Rate Limiting and Making Scalable Requests\n",
    "\n",
    "**Text Content:**\n",
    "Handling rate limits and designing scalable data requests ensure robust data collection processes.\n",
    "\n",
    "**Python Code:**\n",
    "```python\n",
    "# Sample code to handle rate limits using time.sleep\n",
    "import time\n",
    "\n",
    "def safe_request(url):\n",
    "    try:\n",
    "        return requests.get(url)\n",
    "        \n",
    "    except requests.exceptions.RateLimitException:\n",
    "        time.sleep(60)\n",
    "        return safe_request(url)\n",
    "\n",
    "response = safe_request('https://api.example.com/data')\n",
    "```\n",
    "\n"
   ]
  },
  {
   "cell_type": "markdown",
   "id": "a63c9c64-9c95-4941-b69b-9f9a4dca9603",
   "metadata": {
    "editable": true,
    "slideshow": {
     "slide_type": "slide"
    },
    "tags": []
   },
   "source": [
    "### Section 11: Hands-on Project: Scraping Social Media for Trend Analysis\n",
    "\n",
    "**Text Content:**\n",
    "A project that guides students through scraping social media to analyze environmental activism trends.\n",
    "\n",
    "**Python Code:**\n",
    "```python\n",
    "# Pseudocode for a trend analysis project\n",
    "# 1. Define the search parameters for the social media API\n",
    "# 2. Fetch the data using the defined parameters\n",
    "# 3. Clean and preprocess the data\n",
    "# 4. Analyze the data to identify trends\n",
    "# 5. Visualize the trends using matplotlib or seaborn\n",
    "```\n",
    "\n"
   ]
  },
  {
   "cell_type": "markdown",
   "id": "bd978117-a037-430f-b837-a9faba8c6b99",
   "metadata": {
    "editable": true,
    "slideshow": {
     "slide_type": "slide"
    },
    "tags": []
   },
   "source": [
    "### Section 12: Using RU01 Data Services for Analysis\n",
    "\n",
    "**Text Content:**\n",
    "RU01 Data Services provide an API for easy integration with existing data analysis tools.\n",
    "\n",
    "**Python Code:**\n",
    "```python\n",
    "# Sample code to fetch data from RU01 Data Services\n",
    "response = requests.get('https://ru01.example.com/data')\n",
    "data_service_output = response.json()\n",
    "# Process and analyze the data_service_output as needed\n",
    "```\n",
    "\n"
   ]
  },
  {
   "cell_type": "markdown",
   "id": "0a55a5dc-964e-4376-ba25-300fd8dd7d18",
   "metadata": {
    "editable": true,
    "slideshow": {
     "slide_type": "slide"
    },
    "tags": []
   },
   "source": [
    "### Section 13: Integration with Data Analysis Tools\n",
    "\n",
    "**Text Content:**\n",
    "Seamless integration with data analysis tools like Pandas, NumPy, and SciPy is crucial for a streamlined workflow.\n",
    "\n",
    "**Python Code:**\n",
    "```python\n",
    "# Sample code showing integration with Pandas\n",
    "data_frame = pd.read_json('https://ru01.example.com/data')\n",
    "# Perform data analysis using Pandas functions\n",
    "```\n",
    "\n"
   ]
  },
  {
   "cell_type": "markdown",
   "id": "aa52c03a-1ac9-4522-a444-aa913ab14039",
   "metadata": {
    "editable": true,
    "slideshow": {
     "slide_type": "slide"
    },
    "tags": []
   },
   "source": [
    "### Section 14: Case Study: Social Media Data in Market Research\n",
    "\n",
    "**Text Content:**\n",
    "Exploring a case study where social media data was pivotal in understanding market trends and consumer behavior.\n",
    "\n",
    "**Python Code:**\n",
    "No specific code; this section would detail the process and findings from the case study.\n",
    "\n"
   ]
  },
  {
   "cell_type": "markdown",
   "id": "720b97d7-808f-48a8-ad40-e93f28d0e79b",
   "metadata": {
    "editable": true,
    "slideshow": {
     "slide_type": "slide"
    },
    "tags": []
   },
   "source": [
    "### Section 15: Course Wrap-up and Best Practices\n",
    "\n",
    "**Text Content:**\n",
    "Review of best practices in web scraping and API fetching, and how to continue advancing in the field.\n",
    "\n",
    "**Python Code:**\n",
    "No code for this section; focus on summarizing key takeaways and providing resources for further learning."
   ]
  }
 ],
 "metadata": {
  "kernelspec": {
   "display_name": "Python 3 (ipykernel)",
   "language": "python",
   "name": "python3"
  },
  "language_info": {
   "codemirror_mode": {
    "name": "ipython",
    "version": 3
   },
   "file_extension": ".py",
   "mimetype": "text/x-python",
   "name": "python",
   "nbconvert_exporter": "python",
   "pygments_lexer": "ipython3",
   "version": "3.10.13"
  }
 },
 "nbformat": 4,
 "nbformat_minor": 5
}
