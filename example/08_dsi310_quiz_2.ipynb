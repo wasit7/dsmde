{
 "cells": [
  {
   "cell_type": "markdown",
   "id": "fec90c40-79d4-4655-930f-73f4161fa585",
   "metadata": {
    "editable": true,
    "slideshow": {
     "slide_type": "slide"
    },
    "tags": []
   },
   "source": [
    "File management and web scraping in Python, using real-world websites and scenarios. Each question will be designed to test and enhance different aspects of these skills. \n",
    "\n",
    "* Quiz 1: Basic File Reading and Writing\n",
    "* Quiz 2: Web Scraping Basic HTML Data\n",
    "* Quiz 3: Web Scraping with Pagination\n",
    "* Quiz 4: Advanced File Operations\n",
    "* Quiz 5: Web Scraping Dynamic Content\n",
    "* Quiz 6: Extracting and Analyzing Data from API\n",
    "* Quiz 7: Scraping and Processing E-commerce Product Data\n",
    "* Quiz 8: Automated Data Cleaning from a Text File\n",
    "* Quiz 9: Parsing and Summarizing Data from a News API\n",
    "* Quiz 10: Web Scraping with JavaScript-Rendered Content"
   ]
  },
  {
   "cell_type": "markdown",
   "id": "109a5dc1-7d34-465d-8c9a-4c3e5d75b237",
   "metadata": {
    "editable": true,
    "slideshow": {
     "slide_type": "slide"
    },
    "tags": []
   },
   "source": [
    "### Quiz 1: Basic File Reading and Writing\n",
    "**Task**: Write a Python script to read a CSV file containing movie data from [IMDb](https://www.imdb.com/interfaces/), then convert and save this data into a JSON file. The script should be able to handle basic data cleaning like trimming whitespace from strings."
   ]
  },
  {
   "cell_type": "markdown",
   "id": "3aab0ab1-94c2-4da6-a5b5-609b8f45f0fe",
   "metadata": {
    "editable": true,
    "slideshow": {
     "slide_type": "slide"
    },
    "tags": []
   },
   "source": [
    "### Quiz 2: Web Scraping Basic HTML Data\n",
    "**Task**: Write a Python script using `BeautifulSoup` to scrape the current top news headlines from [BBC News](https://www.bbc.com/news). Extract the headline text and the corresponding URLs, and save them in a CSV file."
   ]
  },
  {
   "cell_type": "markdown",
   "id": "6244f822-7ee7-4809-ad41-9b32e6719744",
   "metadata": {
    "editable": true,
    "slideshow": {
     "slide_type": "slide"
    },
    "tags": []
   },
   "source": [
    "### Quiz 3: Web Scraping with Pagination\n",
    "**Task**: Create a Python script to scrape job listings from the first three pages of [Indeed](https://www.indeed.com) for a specific job title and location. The script should extract the job title, company name, location, and summary of each listing and save it to a CSV file."
   ]
  },
  {
   "cell_type": "markdown",
   "id": "53d89efb-b511-4504-acce-4a3ccc1cd6a2",
   "metadata": {
    "editable": true,
    "slideshow": {
     "slide_type": "slide"
    },
    "tags": []
   },
   "source": [
    "### Quiz 4: Advanced File Operations\n",
    "**Task**: Write a Python script to scan a directory containing log files (text files). The script should aggregate error messages from all files, count their occurrences, and output a summary in a new text file. Assume a specific pattern in the log files denotes errors."
   ]
  },
  {
   "cell_type": "markdown",
   "id": "e2c0bf64-a789-4394-b7ec-59e41b890751",
   "metadata": {
    "editable": true,
    "slideshow": {
     "slide_type": "slide"
    },
    "tags": []
   },
   "source": [
    "### Quiz 5: Web Scraping Dynamic Content\n",
    "**Task**: Use Python with Selenium to scrape the latest tech news articles from [TechCrunch](https://techcrunch.com/). The script should navigate the site, handle dynamic content loading, and extract the article titles, authors, and publication dates, saving them in a CSV file."
   ]
  },
  {
   "cell_type": "markdown",
   "id": "df86608e-9f99-45db-9e98-4b9c7de5ccb9",
   "metadata": {
    "editable": true,
    "slideshow": {
     "slide_type": "slide"
    },
    "tags": []
   },
   "source": [
    "### Quiz 6: Extracting and Analyzing Data from API\n",
    "**Task**: Write a Python script to fetch weather data from the [OpenWeatherMap API](https://openweathermap.org/api). Extract temperature, humidity, and weather conditions for a specified city, and write this data to a JSON file. Include error handling for invalid city names."
   ]
  },
  {
   "cell_type": "markdown",
   "id": "f457d65d-468e-4a62-ad9f-9ac6c0e83c2c",
   "metadata": {
    "editable": true,
    "slideshow": {
     "slide_type": "slide"
    },
    "tags": []
   },
   "source": [
    "### Quiz 7: Scraping and Processing E-commerce Product Data\n",
    "**Task**: Create a Python script to scrape product details from an e-commerce site like [Amazon](https://www.amazon.com). Focus on a specific category (e.g., books, electronics). Extract product names, prices, and ratings, and save them in a pandas DataFrame for further analysis."
   ]
  },
  {
   "cell_type": "markdown",
   "id": "60f86d6e-a91a-4963-9e4c-4efe6473b9b1",
   "metadata": {
    "editable": true,
    "slideshow": {
     "slide_type": "slide"
    },
    "tags": []
   },
   "source": [
    "### Quiz 8: Automated Data Cleaning from a Text File\n",
    "**Task**: Write a Python script to read a text file from [Project Gutenberg](https://www.gutenberg.org/). The script should remove all the headers and footers added by Project Gutenberg, count the frequency of each word in the text, and output the top 10 most frequent words to a new file."
   ]
  },
  {
   "cell_type": "markdown",
   "id": "e30c3bdb-ce60-4954-a5dd-d1456c6ee0e6",
   "metadata": {
    "editable": true,
    "slideshow": {
     "slide_type": "slide"
    },
    "tags": []
   },
   "source": [
    "### Quiz 9: Parsing and Summarizing Data from a News API\n",
    "**Task**: Use the [News API](https://newsapi.org/) to fetch recent news articles on a specific topic (e.g., \"climate change\"). Write a Python script to parse this data, extracting the article title, source, and publication date, and then summarize this data in a CSV file."
   ]
  },
  {
   "cell_type": "markdown",
   "id": "9fe4d150-92c6-46a1-bca4-75f601fd1f83",
   "metadata": {
    "editable": true,
    "slideshow": {
     "slide_type": "slide"
    },
    "tags": []
   },
   "source": [
    "### Quiz 10: Web Scraping with JavaScript-Rendered Content\n",
    "**Task**: Write a Python script using Selenium to scrape movie ratings and reviews from a site like [Rotten Tomatoes](https://www.rottentomatoes.com/). The script should navigate through a list of movies, handle the dynamically loaded content, and extract the movie title, rating, and a sample of user reviews."
   ]
  },
  {
   "cell_type": "code",
   "execution_count": null,
   "id": "232b3f79-7ece-496c-9d7d-a36946dc7388",
   "metadata": {
    "editable": true,
    "slideshow": {
     "slide_type": ""
    },
    "tags": []
   },
   "outputs": [],
   "source": []
  },
  {
   "cell_type": "code",
   "execution_count": null,
   "id": "1c8efb84-a82a-4d91-a833-26d8d91c0480",
   "metadata": {
    "editable": true,
    "slideshow": {
     "slide_type": ""
    },
    "tags": []
   },
   "outputs": [],
   "source": []
  }
 ],
 "metadata": {
  "kernelspec": {
   "display_name": "Python 3 (ipykernel)",
   "language": "python",
   "name": "python3"
  },
  "language_info": {
   "codemirror_mode": {
    "name": "ipython",
    "version": 3
   },
   "file_extension": ".py",
   "mimetype": "text/x-python",
   "name": "python",
   "nbconvert_exporter": "python",
   "pygments_lexer": "ipython3",
   "version": "3.10.13"
  }
 },
 "nbformat": 4,
 "nbformat_minor": 5
}
