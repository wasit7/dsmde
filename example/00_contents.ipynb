{
 "cells": [
  {
   "cell_type": "markdown",
   "metadata": {},
   "source": [
    "### แพลตฟอร์มการวิเคราะห์ข้อมูล\n",
    "### สำหรับวางแผนยุทธศาสตร์และนโยบาย\n",
    "ภายใต้โครงการนำร่องการพัฒนานวัตกรรมดิจิทัลและการพัฒนาบุคลากรภาครัฐด้านดิจิทัลเพื่อการบริหารจัดการข้อมูลทางสถิติสำหรับการพัฒนาประเทศ\n",
    "\n",
    "กองทุนพัฒนาดิจิทัลเพื่อเศรษฐกิจและสังคม\n",
    "\n",
    "* สำหรับนักวิเคราะห์ข้อมูล\n",
    "    * 1.หลักสูตรการรวบรวมข้อมูลจากอินเทอร์เน็ตและโซเชียลมีเดีย\n",
    "    * 2.หลักสูตรการแปลงไฟล์เอกสารเป็นข้อความ\n",
    "    * 3.หลักสูตรการบริหารธรรมาภิบาลข้อมูล\n",
    "    * 4.หลักสูตรซอฟต์แวร์สกัดคำสำคัญ\n",
    "    * 5.หลักสูตรทฤษฎีการสกัดคำสำคัญ\n",
    "    * 6.หลักสูตรการสร้างโมเดลกราฟเครือข่ายองค์ความรู้\n",
    "* สำหรับผู้บริหาร\n",
    "    * 7.หลักสูตรแพลตฟอร์มวิเคราะห์ข้อมูลสำหรับวางแผนและนโยบาย"
   ]
  },
  {
   "cell_type": "markdown",
   "id": "1e8f5856-d9bf-4348-9923-f5520ff4a79e",
   "metadata": {
    "editable": true,
    "slideshow": {
     "slide_type": "slide"
    },
    "tags": []
   },
   "source": [
    "# Contents\n",
    "* For Data Analysts\n",
    "    * 1: Data Collection from the Internet and Social Media\n",
    "    * 2: Document File Conversion to Text\n",
    "    * 3: Data Governance Management\n",
    "    * 4: Keyword Extraction Software\n",
    "    * 5: Advanced Keyword Extraction\n",
    "    * 6: Knowledge Graph Network Models\n",
    "* For City Governors\n",
    "    * 7: Data Analytics Platform for Strategic Planning "
   ]
  },
  {
   "cell_type": "markdown",
   "id": "1e8f5856-d9bf-4348-9923-f5520ff4a79e",
   "metadata": {
    "editable": true,
    "slideshow": {
     "slide_type": "slide"
    },
    "tags": []
   },
   "source": [
    "### Course 1: Data Collection from the Internet and Social Media for Data Analysts\n",
    "- **Course Description**: This course provides an in-depth understanding of data collection techniques from the internet and social media platforms using Python. It covers web scraping using Python Playwright, fetching data through APIs, and how to effectively use RU01 Software for Collecting Data from the Internet and Social Media.\n",
    "- **Course Objectives**:\n",
    "  1. Master web scraping techniques using Python Playwright.\n",
    "  2. Learn to fetch and manipulate data using Python requests.\n",
    "  3. Understand how to use RU01 Software for practical data collection applications."
   ]
  },
  {
   "cell_type": "markdown",
   "id": "b6c02d74-1ae4-404a-82d7-16b2b42ede06",
   "metadata": {
    "editable": true,
    "slideshow": {
     "slide_type": "slide"
    },
    "tags": []
   },
   "source": [
    "### Course 1: Data Collection from the Internet and Social Media for Data Analysts\n",
    "1. Introduction to Web Scraping and API Fetching\n",
    "2. Setting up Python and Playwright Environment\n",
    "3. Basic Concepts of HTML, CSS, and JavaScript for Scraping\n",
    "4. Introduction to Python Requests and APIs\n",
    "5. Authentication and Handling API Limits\n",
    "6. Data Collection from Social Media Platforms\n",
    "7. Cleaning and Preprocessing Scraped Data\n",
    "8. Storing and Organizing Collected Data\n",
    "9. Ethical Considerations and Legalities of Data Scraping\n",
    "10. Rate Limiting and Making Scalable Requests\n",
    "11. Hands-on Project: Scraping Social Media for Trend Analysis\n",
    "12. Using RU01 Data Services for Analysis\n",
    "13. Integration with Data Analysis Tools\n",
    "14. Case Study: Social Media Data in Market Research\n",
    "15. Course Wrap-up and Best Practices"
   ]
  },
  {
   "cell_type": "markdown",
   "id": "5c2cfd34-3403-42fa-a40e-559063fed802",
   "metadata": {
    "editable": true,
    "slideshow": {
     "slide_type": "slide"
    },
    "tags": []
   },
   "source": [
    "### Course 2: Document File Conversion to Text for Data Analysts\n",
    "- **Course Description**: This course focuses on converting document files, particularly PDFs, to text. It includes training on pdf-to-text conversion tools, using regular expressions to clean Thai articles, and implementing the RU02 API service for efficient file conversion.\n",
    "- **Course Objectives**:\n",
    "  1. Gain proficiency in PDF-to-text conversion techniques.\n",
    "  2. Learn to clean and preprocess Thai language text using regular expressions.\n",
    "  3. Become adept at using the RU02 API service for document conversion tasks."
   ]
  },
  {
   "cell_type": "markdown",
   "id": "9c0d7c7a-f554-4690-9779-430e0a231423",
   "metadata": {
    "editable": true,
    "slideshow": {
     "slide_type": "slide"
    },
    "tags": []
   },
   "source": [
    "### Course 2: Document File Conversion to Text for Data Analysts\n",
    "1. Overview of Document Conversion Challenges\n",
    "2. Introduction to PDF-to-Text Conversion Techniques\n",
    "3. Working with Python PDF Libraries (e.g., PyPDF2)\n",
    "4. Regular Expressions for Text Cleaning\n",
    "5. Addressing Encoding Issues in Thai Articles\n",
    "6. Introduction to the RU02 API Service\n",
    "7. Automating PDF to Text Conversion\n",
    "8. Quality Assurance for Converted Texts\n",
    "9. Real-World Application: Extracting Data from Academic Papers\n",
    "10. Advanced Text Cleaning and Preprocessing Techniques\n",
    "11. Best Practices for Document Conversion Workflows\n",
    "12. Case Study: Legal Document Analysis\n",
    "13. Course Project: Building a Document Conversion Pipeline\n",
    "14. Course Review and Additional Resources\n",
    "15. Final Assessment and Next Steps"
   ]
  },
  {
   "cell_type": "markdown",
   "id": "ee66b08b-0066-4dfa-9c77-2259d561b536",
   "metadata": {
    "editable": true,
    "slideshow": {
     "slide_type": "slide"
    },
    "tags": []
   },
   "source": [
    "### Course 3: Data Governance Management for Data Analysts\n",
    "- **Course Description**: This course covers the essentials of data governance, including data discovery, ingestion, pipeline creation using Python Kedro and Airflow, and data visualization with Apache Superset.\n",
    "- **Course Objectives**:\n",
    "  1. Understand the principles of data governance and discovery.\n",
    "  2. Learn to manage data ingestion and create efficient data pipelines.\n",
    "  3. Gain skills in using tools like Python Kedro, Airflow, and Apache Superset for data management and visualization."
   ]
  },
  {
   "cell_type": "markdown",
   "id": "cafb4166-b053-44b0-9343-b8df6955e86b",
   "metadata": {
    "editable": true,
    "slideshow": {
     "slide_type": "slide"
    },
    "tags": []
   },
   "source": [
    "### Course 3: Data Governance Management for Data Analysts\n",
    "1. Fundamentals of Data Governance\n",
    "2. The Role of Data Discovery in Governance\n",
    "3. Data Ingestion Strategies and Best Practices\n",
    "4. Introduction to Python Kedro for Data Pipelines\n",
    "5. Automating Workflows with Apache Airflow\n",
    "6. Using Apache Superset for Data Visualization\n",
    "7. Building a Data Governance Framework\n",
    "8. Data Security and Compliance Considerations\n",
    "9. Case Study: Implementing Governance in Healthcare Data\n",
    "10. Practical Session: Setting up a Data Landing Zone\n",
    "11. Data Cataloging and Metadata Management\n",
    "12. Data Quality Management and Versioning\n",
    "13. Project: Creating an End-to-End Data Pipeline\n",
    "14. Course Summary: The Future of Data Governance\n",
    "15. Interactive Q&A and Course Feedback"
   ]
  },
  {
   "cell_type": "markdown",
   "id": "a2939252-82b0-4e62-af51-890795da5467",
   "metadata": {
    "editable": true,
    "slideshow": {
     "slide_type": "slide"
    },
    "tags": []
   },
   "source": [
    "### Course 4: Keyword Extraction: Theory for Data Analysts\n",
    "- **Course Description**: Delving deeper into the theories of keyword extraction, this course covers the principles of name entity recognition, zero-shot sentence classification, and question-answering using RAG.\n",
    "- **Course Objectives**:\n",
    "  1. Understand the theoretical aspects of named entity recognition.\n",
    "  2. Learn the principles behind zero-shot sentence classification.\n",
    "  3. Gain insights into the question-answering mechanism using RAG."
   ]
  },
  {
   "cell_type": "markdown",
   "id": "2587a3aa-5d45-45c3-807c-a3cc472effed",
   "metadata": {
    "editable": true,
    "slideshow": {
     "slide_type": "slide"
    },
    "tags": []
   },
   "source": [
    "### Course 4: Keyword Extraction: Theory for Data Analysts\n",
    "1. Theoretical Foundations of NER\n",
    "2. Concepts of Zero-Shot Sentence Classification\n",
    "3. Understanding RAG for Question Answering\n",
    "4. Deep Dive into Keyword Extraction Techniques\n",
    "5. Case Studies: Effective Keyword Extraction\n",
    "6. Algorithmic Challenges and Solutions in NER\n",
    "7. Exploring Datasets for Classification Tasks\n",
    "8. Designing a Zero-Shot Classifier\n",
    "9. Implementing RAG for Complex Queries\n",
    "10. NER and Classification Tools and Libraries\n",
    "11. Hands-On Lab: Creating a Keyword Extraction Model\n",
    "12. Performance Metrics for Keyword Extraction\n",
    "13. Advanced Techniques in NLP for Keyword Extraction\n",
    "14. Peer Review: Analyzing Keyword Extraction Outcomes\n",
    "15. Course Summary and Next Steps"
   ]
  },
  {
   "cell_type": "markdown",
   "id": "b7e3c391-eb45-46f4-bd88-a0815f96760a",
   "metadata": {
    "editable": true,
    "slideshow": {
     "slide_type": "slide"
    },
    "tags": []
   },
   "source": [
    "### Course 5: Keyword Extraction: Software for Data Analysts\n",
    "- **Course Description**: This course introduces students to API services for name entity recognition, zero-shot sentence classification, and question-answering using RAG, focusing on their application in keyword extraction.\n",
    "- **Course Objectives**:\n",
    "  1. Learn to utilize API services for named entity recognition and sentence classification.\n",
    "  2. Understand the application of RAG for question-answering.\n",
    "  3. Develop skills in extracting meaningful keywords from large datasets."
   ]
  },
  {
   "cell_type": "markdown",
   "id": "11739466-407d-45f0-a798-39e4e7679bc7",
   "metadata": {
    "editable": true,
    "slideshow": {
     "slide_type": "slide"
    },
    "tags": []
   },
   "source": [
    "### Course 5: Keyword Extraction: Software for Data Analysts\n",
    "1. Introduction to Automated Keyword Extraction\n",
    "2. Using APIs for Named Entity Recognition\n",
    "3. Exploring Zero-Shot Sentence Classification APIs\n",
    "4. Question and Answering with RAG - An Overview\n",
    "5. Setting up the API Environment\n",
    "6. Practical Exercise: Integrating APIs into a Data Pipeline\n",
    "7. Customizing API Requests for Specific Use Cases\n",
    "8. Handling API Responses and Extracted Keywords\n",
    "9. Visualizing API Data for Better Insights\n",
    "10. Case Study: Keyword Extraction for Content Strategy\n",
    "11. Project: Building a Keyword Extraction Tool\n",
    "12. Evaluating API Performance and Accuracy\n",
    "13. Scaling API Calls for Large Datasets\n",
    "14. Course Recap and Real-world Applications\n",
    "15. Final Assignment and Course Evaluation"
   ]
  },
  {
   "cell_type": "markdown",
   "id": "2a96e6b0-c260-4932-8ee6-ca499e3f7919",
   "metadata": {
    "editable": true,
    "slideshow": {
     "slide_type": "slide"
    },
    "tags": []
   },
   "source": [
    "### Course 6: Knowledge Graph Network Models for Data Analysts\n",
    "- **Course Description**: This course offers a comprehensive understanding of creating and managing knowledge graphs. It includes extracting SPO triples, knowledge graph embedding techniques, graph analysis using KGE and UMAP, and knowledge graph reasoning, among other essential topics.\n",
    "- **Course Objectives**:\n",
    "  1. Master the extraction of SPO triples from textual data.\n",
    "  2. Learn knowledge graph embedding techniques and their applications.\n",
    "  3. Gain proficiency in building, analyzing, and reasoning over knowledge graphs."
   ]
  },
  {
   "cell_type": "markdown",
   "id": "2e869aef-89cb-4433-b722-64c2740368fe",
   "metadata": {
    "editable": true,
    "slideshow": {
     "slide_type": "slide"
    },
    "tags": []
   },
   "source": [
    "### Course 6: Knowledge Graph Network Models for Data Analysts\n",
    "1. Introduction to Knowledge Graphs\n",
    "2. Extracting SPO Triples from Textual Data\n",
    "3. Exploring Knowledge Graph Embedding Techniques\n",
    "4. Utilizing KGE and UMAP for Graph Analysis\n",
    "5. Knowledge Graph Reasoning: Principles and Applications\n",
    "6. Building a Knowledge Graph: Step-by-Step\n",
    "7. Tools and Platforms for Knowledge Graph Exploration\n",
    "8. Case Study: Building a Graph for a News Corpus\n",
    "9. Data Integration and Interoperability in Graphs\n",
    "10. Visualizing and Interacting with Knowledge Graphs\n",
    "11. Hands-On Project: Creating a Knowledge Graph from Scratch\n",
    "12. Advanced Querying and Reasoning over Knowledge Graphs\n",
    "13. Best Practices in Knowledge Graph Management\n",
    "14. Peer-to-Peer Review: Knowledge Graph Case Studies\n",
    "15. Final Thoughts and Continuing Education in Knowledge Graphs"
   ]
  },
  {
   "cell_type": "markdown",
   "id": "d732a6e7-14ac-42b3-a117-749ff0c7583f",
   "metadata": {
    "editable": true,
    "slideshow": {
     "slide_type": "slide"
    },
    "tags": []
   },
   "source": [
    "### Course 7:  Strategic Planning Platform for City Governors\n",
    "- **Course Description**: Tailored for city governors and administrators, this course teaches how to use data analytics for strategic planning. It includes learning about social post insights, root cause analysis using large language models, and policy and plan visualization techniques.\n",
    "- **Course Objectives**:\n",
    "  1. Learn to analyze social post insights for urban and rural management.\n",
    "  2. Understand root cause analysis using advanced language models.\n",
    "  3. Develop skills in visualizing policies and plans for strategic governance."
   ]
  },
  {
   "cell_type": "markdown",
   "id": "eeafb20f-a8b4-433b-b98c-04b9d8d28535",
   "metadata": {
    "editable": true,
    "slideshow": {
     "slide_type": "slide"
    },
    "tags": []
   },
   "source": [
    "### Course 7: Strategic Planning Platform for City Governors\n",
    "1. Introduction to Strategic Planning Analytics\n",
    "2. Understanding Social Post Insights for Decision Making\n",
    "3. Root Cause Analysis with Large Language Models\n",
    "4. Visualizing Data for Impactful Governance\n",
    "5. Introduction to Policy and Plan Alignment\n",
    "6. Navigating the Strategic Planning Platform\n",
    "7. Case Study: Urban and Rural Development Insights\n",
    "8. Integrating Public Feedback into Strategic Decisions\n",
    "9. Workshop: Analyzing Social Issues through Data\n",
    "10. Collaborative Tools for Policy Formulation\n",
    "11. Scenario Analysis and Strategic Planning\n",
    "12. Project: Creating a Strategic Plan for a Hypothetical City\n",
    "13. Discussing the Role of AI in Strategic Governance\n",
    "14. Advanced Visualization Techniques\n",
    "15. Closing Remarks: Ethical Considerations in Strategic Planning"
   ]
  }
 ],
 "metadata": {
  "kernelspec": {
   "display_name": "Python 3 (ipykernel)",
   "language": "python",
   "name": "python3"
  },
  "language_info": {
   "codemirror_mode": {
    "name": "ipython",
    "version": 3
   },
   "file_extension": ".py",
   "mimetype": "text/x-python",
   "name": "python",
   "nbconvert_exporter": "python",
   "pygments_lexer": "ipython3",
   "version": "3.10.13"
  }
 },
 "nbformat": 4,
 "nbformat_minor": 5
}
