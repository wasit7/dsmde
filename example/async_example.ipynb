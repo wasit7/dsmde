{
 "cells": [
  {
   "cell_type": "markdown",
   "id": "580acf14-348b-4cb4-9476-ea329f161c0a",
   "metadata": {},
   "source": [
    "# To run Async functions in Jupyter"
   ]
  },
  {
   "cell_type": "code",
   "execution_count": 6,
   "id": "ddba734f-ae72-4b75-8538-9ce9eb67913e",
   "metadata": {},
   "outputs": [
    {
     "name": "stdout",
     "output_type": "stream",
     "text": [
      "Timer A: 1 second(s) passed\n",
      "Timer B: 1 second(s) passed\n",
      "Timer A: 2 second(s) passed\n",
      "Timer B: 2 second(s) passed\n",
      "Timer A: 3 second(s) passed\n",
      "Timer B: 3 second(s) passed\n",
      "Timer B: finished!\n",
      "Timer A: 4 second(s) passed\n",
      "Timer A: 5 second(s) passed\n",
      "Timer A: finished!\n"
     ]
    }
   ],
   "source": [
    "import asyncio\n",
    "\n",
    "async def timer(name, seconds):\n",
    "    for i in range(seconds):\n",
    "        await asyncio.sleep(1)\n",
    "        print(f\"Timer {name}: {i + 1} second(s) passed\")\n",
    "    print(f'Timer {name}: finished!')\n",
    "\n",
    "async def main():\n",
    "    # Running two timers concurrently\n",
    "    await asyncio.gather(\n",
    "        timer(\"A\", 5),  # Timer A for 5 seconds\n",
    "        timer(\"B\", 3)   # Timer B for 3 seconds\n",
    "    )\n",
    "    \n",
    "await main()"
   ]
  },
  {
   "cell_type": "markdown",
   "id": "afa3fdcb-8b28-4f4f-8971-5729d1bfc291",
   "metadata": {
    "editable": true,
    "slideshow": {
     "slide_type": ""
    },
    "tags": []
   },
   "source": [
    "# To run Async functions in command line\n",
    "standalone Python script (Python3.10+)\n",
    "## command line\n",
    "```bash\n",
    "python async_example.py\n",
    "```\n",
    "## code\n",
    "```python\n",
    "# async_example.py\n",
    "import asyncio\n",
    "import aiohttp\n",
    "import pandas as pd\n",
    "\n",
    "async def timer(name, seconds):\n",
    "    for i in range(seconds):\n",
    "        await asyncio.sleep(1)\n",
    "        print(f\"Timer {name}: {i + 1} second(s) passed\")\n",
    "    print(f'Timer {name}: finished!')\n",
    "\n",
    "async def main():\n",
    "    # Running two timers concurrently\n",
    "    await asyncio.gather(\n",
    "        timer(\"A\", 5),  # Timer A for 5 seconds\n",
    "        timer(\"B\", 3)   # Timer B for 3 seconds\n",
    "    )\n",
    "    \n",
    "if __name__ == \"__main__\":\n",
    "    asyncio.run(main())\n",
    "```"
   ]
  },
  {
   "cell_type": "code",
   "execution_count": null,
   "id": "603b9994-250d-4a1a-af82-45d17c12b345",
   "metadata": {
    "editable": true,
    "slideshow": {
     "slide_type": ""
    },
    "tags": []
   },
   "outputs": [],
   "source": []
  }
 ],
 "metadata": {
  "kernelspec": {
   "display_name": "Python 3 (ipykernel)",
   "language": "python",
   "name": "python3"
  },
  "language_info": {
   "codemirror_mode": {
    "name": "ipython",
    "version": 3
   },
   "file_extension": ".py",
   "mimetype": "text/x-python",
   "name": "python",
   "nbconvert_exporter": "python",
   "pygments_lexer": "ipython3",
   "version": "3.10.13"
  }
 },
 "nbformat": 4,
 "nbformat_minor": 5
}
