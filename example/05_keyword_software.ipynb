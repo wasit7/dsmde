{
 "cells": [
  {
   "cell_type": "markdown",
   "id": "bd5d5777-5972-4db9-82e7-b205ca2a5739",
   "metadata": {
    "editable": true,
    "slideshow": {
     "slide_type": "slide"
    },
    "tags": []
   },
   "source": [
    "# Course 5: Software: Keyword Extraction for Data Analysts\n",
    "\n",
    "## Hypothetical Scenario:\n",
    "**Context**: Imagine that the Thai Tourism Authority wants to analyze social media posts to understand what locations or services are trending among travelers. Your task is to use keyword extraction to identify these trends."
   ]
  },
  {
   "cell_type": "markdown",
   "id": "dd1734f6-093e-4201-8ad3-70e5515a8761",
   "metadata": {
    "editable": true,
    "slideshow": {
     "slide_type": "slide"
    },
    "tags": []
   },
   "source": [
    "### Section 1: Introduction to Automated Keyword Extraction\n",
    "**Text Content**: Automated keyword extraction is a process used to find words or phrases from text that represent the main content. It's crucial for summarizing data and understanding key themes without reading all the content.\n",
    "\n",
    "```python\n",
    "# Python code example for simple keyword extraction using RAKE (Rapid Automatic Keyword Extraction algorithm)\n",
    "from rake_nltk import Rake\n",
    "\n",
    "rake = Rake()\n",
    "text = \"The Grand Palace in Bangkok has received thousands of likes on social media this month.\"\n",
    "rake.extract_keywords_from_text(text)\n",
    "\n",
    "keyword_extracted = rake.get_ranked_phrases()\n",
    "print(keyword_extracted)\n",
    "```"
   ]
  },
  {
   "cell_type": "markdown",
   "id": "d3bb11c7-59d1-4901-8aec-192369cc8a2d",
   "metadata": {
    "editable": true,
    "slideshow": {
     "slide_type": "slide"
    },
    "tags": []
   },
   "source": [
    "### Section 2: Using APIs for Named Entity Recognition (NER)\n",
    "**Text Content**: NER is a subtask of information extraction that seeks to locate and classify named entities mentioned in text into predefined categories such as the names of persons, organizations, locations, expressions of times, quantities, monetary values, percentages, etc.\n",
    "\n",
    "```python\n",
    "# Python code for using an NER API\n",
    "import requests\n",
    "\n",
    "text = \"Ayutthaya Historical Park is frequently mentioned in traveler's blogs.\"\n",
    "payload = {'text': text}\n",
    "response = requests.post(\"http://ner_api_endpoint\", json=payload)\n",
    "\n",
    "entities = response.json()\n",
    "print(entities)\n",
    "```"
   ]
  },
  {
   "cell_type": "markdown",
   "id": "ae45c89b-5df7-4229-9643-5a365f520e00",
   "metadata": {
    "editable": true,
    "slideshow": {
     "slide_type": "slide"
    },
    "tags": []
   },
   "source": [
    "### Section 3: Exploring Zero-Shot Sentence Classification APIs\n",
    "**Text Content**: Zero-shot classification enables us to classify data into categories that the model has never seen before during training.\n",
    "\n",
    "```python\n",
    "# Python code for using a zero-shot classification API\n",
    "from transformers import pipeline\n",
    "\n",
    "classifier = pipeline(\"zero-shot-classification\")\n",
    "classification = classifier(\n",
    "    \"Phi Phi Islands are a popular destination for tourists visiting Thailand.\",\n",
    "    candidate_labels=[\"travel\", \"food\", \"accommodation\", \"entertainment\"],\n",
    ")\n",
    "\n",
    "print(classification)\n",
    "```"
   ]
  },
  {
   "cell_type": "markdown",
   "id": "aff3abbf-e6c7-4e8f-a681-a8b5a798a8e2",
   "metadata": {
    "editable": true,
    "slideshow": {
     "slide_type": "slide"
    },
    "tags": []
   },
   "source": [
    "### Section 4: Question and Answering with RAG - An Overview\n",
    "**Text Content**: The Retrieval-Augmented Generation (RAG) model combines the dense vector retrieval of relevant documents with a generative model to answer questions.\n",
    "\n",
    "```python\n",
    "# Python code to demonstrate RAG usage for Q&A\n",
    "from transformers import RagTokenizer, RagRetriever, RagTokenForGeneration\n",
    "\n",
    "tokenizer = RagTokenizer.from_pretrained(\"facebook/rag-token-nq\")\n",
    "retriever = RagRetriever.from_pretrained(\"facebook/rag-token-nq\", index_name=\"exact\", use_dummy_dataset=True)\n",
    "model = RagTokenForGeneration.from_pretrained(\"facebook/rag-token-nq\", retriever=retriever)\n",
    "\n",
    "input_ids = tokenizer(\"What is the most visited place in Thailand?\", return_tensors=\"pt\").input_ids\n",
    "outputs = model.generate(input_ids)\n",
    "\n",
    "print(tokenizer.decode(outputs[0], skip_special_tokens=True))\n",
    "```"
   ]
  },
  {
   "cell_type": "markdown",
   "id": "dfa5fe6c-201f-4531-91d4-cdc32295b0df",
   "metadata": {
    "editable": true,
    "slideshow": {
     "slide_type": "slide"
    },
    "tags": []
   },
   "source": [
    "### Section 5: Setting up the API Environment\n",
    "**Text Content**: Setting up an environment for API interaction involves getting API keys, installing required libraries, and ensuring proper endpoint configuration.\n",
    "\n",
    "```python\n",
    "# Python code for setting up an API environment\n",
    "import os\n",
    "from dotenv import load_dotenv\n",
    "import requests\n",
    "\n",
    "# Load .env file where the API_KEY is stored\n",
    "load_dotenv()\n",
    "\n",
    "API_KEY = os.getenv(\"API_KEY\")\n",
    "\n",
    "# Base URL of the API service\n",
    "BASE_URL = \"http://example_api_service.com/\"\n",
    "\n",
    "# Test the API with a simple GET request\n",
    "response = requests.get(BASE_URL, headers={\"Authorization\": f\"Bearer {API_KEY}\"})\n",
    "print(response.json())\n",
    "```"
   ]
  },
  {
   "cell_type": "markdown",
   "id": "e277e47b-d465-450e-951f-9f2088a59849",
   "metadata": {
    "editable": true,
    "slideshow": {
     "slide_type": "slide"
    },
    "tags": []
   },
   "source": [
    "### Section 6: Practical Exercise: Integrating APIs into a Data Pipeline\n",
    "**Text Content**: In this exercise, we will integrate the NER API into a simple data pipeline to process a batch of social media posts.\n",
    "\n",
    "```python\n",
    "# Python code for integrating an API into a data pipeline\n",
    "import json\n",
    "\n",
    "# Sample batch of social media posts\n",
    "posts = [\"Chiang Mai's night markets are a must-see!\", \"Had an amazing street food tour in Bangkok.\"]\n",
    "\n",
    "# Function to call the NER API for a batch of posts\n",
    "def extract_entities(posts):\n",
    "    entities_batch = []\n",
    "    for post in posts:\n",
    "        response = requests.post(\"http://ner_api_endpoint\", json={'text': post})\n",
    "        entities = response.json()\n",
    "        entities_batch.append(entities)\n",
    "    return entities_batch\n",
    "\n",
    "entities_extracted = extract_entities(posts)\n",
    "print(json.dumps(entities_extracted, indent=\n",
    "\n",
    "2, ensure_ascii=False))\n",
    "```"
   ]
  },
  {
   "cell_type": "markdown",
   "id": "7dfeebdb-3f24-40c7-aa8b-a157fd7dc6c9",
   "metadata": {
    "editable": true,
    "slideshow": {
     "slide_type": "slide"
    },
    "tags": []
   },
   "source": [
    "### Section 7: Customizing API Requests for Specific Use Cases\n",
    "**Text Content**: Depending on the API's flexibility, we can customize requests to suit specific needs, such as setting the language for NER to Thai.\n",
    "\n",
    "```python\n",
    "# Python code to customize API requests\n",
    "payload = {'text': \"วัดพระแก้วเป็นสถานที่ที่ทุกคนควรไปเยือน\", 'language': 'th'}\n",
    "response = requests.post(\"http://ner_api_endpoint\", json=payload)\n",
    "\n",
    "entities = response.json()\n",
    "print(entities)\n",
    "```\n"
   ]
  },
  {
   "cell_type": "markdown",
   "id": "d659d258-5755-48c8-9a89-7be183a4275a",
   "metadata": {
    "editable": true,
    "slideshow": {
     "slide_type": "slide"
    },
    "tags": []
   },
   "source": [
    "### Section 8: Handling API Responses and Extracted Keywords\n",
    "**Text Content**: Once we receive a response from the API, we need to parse the results and extract the relevant keywords.\n",
    "\n",
    "```python\n",
    "# Python code for handling API responses\n",
    "response = requests.post(\"http://ner_api_endpoint\", json={'text': \"Visiting the ruins of Sukhothai is a journey back in time.\"})\n",
    "results = response.json()\n",
    "\n",
    "# Extract and print the keywords\n",
    "keywords = [entity['word'] for entity in results['entities']]\n",
    "print(keywords)\n",
    "```\n"
   ]
  },
  {
   "cell_type": "markdown",
   "id": "f8fb5378-e5f6-415f-80f4-4195e75d52e5",
   "metadata": {
    "editable": true,
    "slideshow": {
     "slide_type": "slide"
    },
    "tags": []
   },
   "source": [
    "### Section 9: Visualizing API Data for Better Insights\n",
    "**Text Content**: Visualization helps in understanding the frequency and distribution of keywords across multiple texts.\n",
    "\n",
    "```python\n",
    "# Python code for visualizing API data using Matplotlib\n",
    "import matplotlib.pyplot as plt\n",
    "\n",
    "keywords = ['Bangkok', 'Chiang Mai', 'Sukhothai', 'Phuket', 'Samui']\n",
    "frequencies = [50, 30, 20, 40, 10]\n",
    "\n",
    "plt.bar(keywords, frequencies)\n",
    "plt.xlabel('Keyword')\n",
    "plt.ylabel('Frequency')\n",
    "plt.title('Keyword Frequency in Social Media Posts')\n",
    "plt.show()\n",
    "```\n"
   ]
  },
  {
   "cell_type": "markdown",
   "id": "f319c657-288e-4598-87b4-fca11be084ee",
   "metadata": {
    "editable": true,
    "slideshow": {
     "slide_type": "slide"
    },
    "tags": []
   },
   "source": [
    "### Section 10: Case Study: Keyword Extraction for Content Strategy\n",
    "**Text Content**: In this case study, we'll use keyword extraction to inform the content strategy of a tourism blog focusing on Thailand.\n",
    "\n",
    "```python\n",
    "# Python code to extract keywords for content strategy\n",
    "# Using the RAKE algorithm\n",
    "from rake_nltk import Rake\n",
    "\n",
    "rake = Rake()\n",
    "blog_posts = [\"10 Things to do in Bangkok\", \"A Guide to Street Food in Chiang Mai\", \"Finding Peace in the Temples of Sukhothai\"]\n",
    "keywords = []\n",
    "\n",
    "for post in blog_posts:\n",
    "    rake.extract_keywords_from_text(post)\n",
    "    post_keywords = rake.get_ranked_phrases()\n",
    "    keywords.append(post_keywords)\n",
    "\n",
    "print(keywords)\n",
    "```"
   ]
  },
  {
   "cell_type": "markdown",
   "id": "f62373e1-4419-40f4-880f-954d7c21646b",
   "metadata": {
    "editable": true,
    "slideshow": {
     "slide_type": "slide"
    },
    "tags": []
   },
   "source": [
    "### Section 11: Project: Building a Keyword Extraction Tool\n",
    "**Text Content**: As a project, we will build a tool that extracts keywords from text using the APIs we've explored.\n",
    "\n",
    "```python\n",
    "# Python code for building a keyword extraction tool\n",
    "# This section will guide the students through creating a simple CLI tool that uses the previously discussed APIs.\n",
    "```"
   ]
  },
  {
   "cell_type": "markdown",
   "id": "ef600ccb-f04d-4e96-8604-6eaba2bed1f4",
   "metadata": {
    "editable": true,
    "slideshow": {
     "slide_type": "slide"
    },
    "tags": []
   },
   "source": [
    "### Section 12: Evaluating API Performance and Accuracy\n",
    "**Text Content**: It's crucial to evaluate the performance and accuracy of the APIs to ensure they meet our analysis needs.\n",
    "\n",
    "```python\n",
    "# Python code for evaluating API performance\n",
    "# The section will include methods to measure API response times and accuracy using a test dataset.\n",
    "```"
   ]
  },
  {
   "cell_type": "markdown",
   "id": "ec2e8675-1ddc-477a-80ea-cb6f654a4be6",
   "metadata": {
    "editable": true,
    "slideshow": {
     "slide_type": "slide"
    },
    "tags": []
   },
   "source": [
    "### Section 13: Scaling API Calls for Large Datasets\n",
    "**Text Content**: We must consider the efficiency and limits of APIs when dealing with large datasets to avoid being throttled or blocked.\n",
    "\n",
    "```python\n",
    "# Python code for scaling API calls\n",
    "# The section will discuss best practices for batch processing and rate limiting.\n",
    "```"
   ]
  },
  {
   "cell_type": "markdown",
   "id": "e1e491cd-3db5-4bfc-ba8e-f33a30270af4",
   "metadata": {
    "editable": true,
    "slideshow": {
     "slide_type": "slide"
    },
    "tags": []
   },
   "source": [
    "### Section 14: Course Recap and Real-world Applications\n",
    "**Text Content**: This section recaps the course and discusses how to apply these skills in real-world scenarios, like optimizing content for search engines or understanding customer feedback.\n",
    "\n",
    "```python\n",
    "# Python code for recap and application\n",
    "# A summary of Python code snippets and techniques learned throughout the course.\n",
    "```"
   ]
  },
  {
   "cell_type": "markdown",
   "id": "868b269c-9b42-43c6-b454-331589be81e8",
   "metadata": {
    "editable": true,
    "slideshow": {
     "slide_type": "slide"
    },
    "tags": []
   },
   "source": [
    "### Section 15: Final Assignment and Course Evaluation\n",
    "**Text Content**: The final assignment will involve a comprehensive keyword analysis of a new dataset, and the course evaluation will gather feedback on the learning experience.\n",
    "\n",
    "```python\n",
    "# Python code for final assignment\n",
    "# Instructions and starter code for the final assignment.\n",
    "```"
   ]
  }
 ],
 "metadata": {
  "kernelspec": {
   "display_name": "Python 3 (ipykernel)",
   "language": "python",
   "name": "python3"
  },
  "language_info": {
   "codemirror_mode": {
    "name": "ipython",
    "version": 3
   },
   "file_extension": ".py",
   "mimetype": "text/x-python",
   "name": "python",
   "nbconvert_exporter": "python",
   "pygments_lexer": "ipython3",
   "version": "3.10.13"
  }
 },
 "nbformat": 4,
 "nbformat_minor": 5
}
