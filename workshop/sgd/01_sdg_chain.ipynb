{
 "cells": [
  {
   "cell_type": "code",
   "execution_count": 1,
   "id": "a70fb66e-68ac-4b81-844f-555bf417d343",
   "metadata": {},
   "outputs": [
    {
     "data": {
      "text/plain": [
       "True"
      ]
     },
     "execution_count": 1,
     "metadata": {},
     "output_type": "execute_result"
    }
   ],
   "source": [
    "from dotenv import load_dotenv\n",
    "load_dotenv()\n",
    "\n",
    "# import os\n",
    "# os.environ[\"OPENAI_API_KEY\"]"
   ]
  },
  {
   "cell_type": "code",
   "execution_count": 2,
   "id": "f821010d-f623-412b-a365-74a9063b88fb",
   "metadata": {},
   "outputs": [],
   "source": [
    "from operator import itemgetter\n",
    "from langchain.chat_models import ChatOpenAI\n",
    "from langchain.prompts import ChatPromptTemplate\n",
    "from langchain.schema import StrOutputParser\n",
    "import json\n",
    "import pandas as pd"
   ]
  },
  {
   "cell_type": "code",
   "execution_count": 3,
   "id": "5e8655b2-a0e1-4c37-a622-88dc740259b9",
   "metadata": {},
   "outputs": [],
   "source": [
    "model = ChatOpenAI(\n",
    "    # model='gpt-3.5-turbo-16k-0613',\n",
    "    model='gpt-3.5-turbo-1106',\n",
    "    temperature = 0.1\n",
    ")"
   ]
  },
  {
   "cell_type": "code",
   "execution_count": 4,
   "id": "7f2d0f57-0c13-45a2-b56d-7af17e9b6c7c",
   "metadata": {},
   "outputs": [],
   "source": [
    "prompt1 = ChatPromptTemplate.from_template(\"\"\"\n",
    "from the given social media posts from people in the given province. please analize base on un sdg goals. return output only in json format\n",
    "\n",
    "### province\n",
    "ปทุมธานี\n",
    "\n",
    "### social media posts\n",
    "ปทุมธานีรถติดมาก\n",
    "อุบัติเหตุหน้ามธ.รถติดยาว\n",
    "มธ.เดินทางไปอย่างไรจากสระบุรี\n",
    "\n",
    "### instruction\n",
    "1. identify user group that has posted on social media\n",
    "2. as a psychologist, please analyze did the users have posted those massageas \n",
    "3. classify sentiment of the post whether positive, neutal or negative. If negative following step 4, 5 and 6 otherwise go to step 5 and 6.\n",
    "4. identify a concern or an issue\n",
    "5. identify a wish of the users\n",
    "6. return output in json format that contain\n",
    "\n",
    "### example province\n",
    "{example_province}\n",
    "\n",
    "### example social media posts\n",
    "{example_social_posts}\n",
    "\n",
    "### example output format\n",
    "{example_output}\n",
    "\n",
    "### province\n",
    "{province}\n",
    "\n",
    "### social media posts\n",
    "{social_posts}\n",
    "\n",
    "### output format\n",
    "\"\"\")\n",
    "\n",
    "# chain1 = prompt1 | model | StrOutputParser()\n"
   ]
  },
  {
   "cell_type": "code",
   "execution_count": 6,
   "id": "c9ae6691-8cf8-4b83-89d6-97f42cea2674",
   "metadata": {
    "scrolled": true
   },
   "outputs": [],
   "source": [
    "chain1_example={\n",
    "    \"province\":\"ปทุมธานี\",\n",
    "    \"social_posts\":[\"ไม่มีสานสาธารณะดีๆให้เราเลย\",\"ต้นไม้ยืนต้นตายริมถนนอีกแล้ว\"],\n",
    "    \"output\":{\n",
    "      \"user_group\": \"Local residents and commuters in Pathum Thani Province\",\n",
    "      \"psychological_analysis\": \"The users are expressing their frustrations and challenges related to transportation. This indicates a concern for personal efficiency, daily commuting stress, and a desire for better traffic management.\",\n",
    "      \"sentiment_classification\": \"negative\",\n",
    "      \"identified_concerns\": {\n",
    "        \"traffic_congestion\": \"High levels of traffic congestion\",\n",
    "        \"road_safety\": \"Concerns about road safety due to accidents\"\n",
    "      },\n",
    "      \"user_wishes\": [\n",
    "        \"improved_traffic_management: Desire for better traffic flow and management\",\n",
    "        \"safer_road_conditions: Wish for safer road conditions and fewer accidents\"\n",
    "      ],\n",
    "      \"relevance_sdg_target\": [\n",
    "        \"SDG_11.2 By 2030, provide access to safe, affordable, accessible and sustainable transport systems for all\",\n",
    "        \"SDG_3.6 By 2020, halve the number of global deaths and injuries from road traffic accidents\"\n",
    "      ]\n",
    "    }\n",
    "}\n",
    "\n",
    "post_data={\n",
    "    'example_province':chain1_example['province'],\n",
    "    'example_social_posts': '\\n'.join(chain1_example['social_posts']),\n",
    "    'example_output':chain1_example['output'],\n",
    "    'province':\"ปทุมธานี\",\n",
    "    'social_posts':'\\n'.join([\"ไม่มีสานสาธารณะดีๆให้เราเลย\",\"ต้นไม้ยืนต้นตายริมถนนอีกแล้ว\"])\n",
    "}\n",
    "# social_analysis=chain1.invoke(post_data)\n",
    "# obj_social_analysis=json.loads(social_analysis)\n",
    "# print(social_analysis)\n",
    "# targets=[i.split(' ')[0][4:] for i in obj_social_analysis['relevance_sdg_target']]\n",
    "# print(targets)"
   ]
  },
  {
   "cell_type": "code",
   "execution_count": 7,
   "id": "caad8d9d-ce2f-481d-ba61-a9bfca7454db",
   "metadata": {},
   "outputs": [],
   "source": [
    "from langchain.schema import BaseOutputParser\n",
    "\n",
    "class IndicatorOutputParser(BaseOutputParser):\n",
    "    \"\"\"Parse the output of an LLM call to a comma-separated list.\"\"\"\n",
    "\n",
    "\n",
    "    def parse(self, social_analysis: dict):\n",
    "        obj_social_analysis=json.loads(social_analysis)\n",
    "        targets=[i.split(' ')[0][4:] for i in obj_social_analysis['relevance_sdg_target']]\n",
    "        df2=pd.read_csv('sdg.csv')\n",
    "        df2=df2.query(\"target == @targets\")\n",
    "        text_indicators=[]\n",
    "        for idx,i in df2[['indicator','indicator_description']].iterrows():\n",
    "            text_indicators.append({'indicator':i['indicator'], 'indicator_description':i['indicator_description']}  )\n",
    "        obj_social_analysis['relevance_sdg_indicators']=text_indicators\n",
    "        return obj_social_analysis\n",
    "\n",
    "# print( IndicatorOutputParser().parse(social_analysis))"
   ]
  },
  {
   "cell_type": "code",
   "execution_count": 8,
   "id": "24d5766e-c4c5-4e63-9b77-40dc23733981",
   "metadata": {},
   "outputs": [],
   "source": [
    "chain1 = prompt1 | model |  StrOutputParser() | IndicatorOutputParser()\n",
    "# type(chain1.invoke(post_data))"
   ]
  },
  {
   "cell_type": "code",
   "execution_count": 9,
   "id": "30c9b7f4-c3d1-453d-bf52-dcb708fdd6ab",
   "metadata": {},
   "outputs": [],
   "source": [
    "chain2_example ={\n",
    "    \"social_analysis\":{\n",
    "      \"user_group\": \"Local residents in Pathum Thani Province\",\n",
    "      \"psychological_analysis\": \"The users are expressing disappointment and concern about the lack of public green spaces and the deterioration of roadside trees. This indicates a concern for environmental quality and a desire for better public green spaces and tree conservation.\",\n",
    "      \"sentiment_classification\": \"negative\",\n",
    "      \"identified_concerns\": {\n",
    "        \"lack_of_public_green_spaces\": \"Disappointment over the absence of good public green spaces\",\n",
    "        \"deteriorating_roadside_trees\": \"Concern about the continuous death of roadside trees\"\n",
    "      },\n",
    "      \"user_wishes\": [\n",
    "        \"improved_public_green_spaces: Desire for better public green spaces\",\n",
    "        \"tree_conservation: Wish for the conservation and care of roadside trees\"\n",
    "      ],\n",
    "      \"relevance_sdg_target\": [\n",
    "        \"SDG_11.7 By 2030, provide universal access to safe, inclusive and accessible, green and public spaces, in particular for women and children, older persons and persons with disabilities\",\n",
    "        \"SDG_15.2 By 2020, promote the implementation of sustainable management of all types of forests, halt deforestation, restore degraded forests and substantially increase afforestation and reforestation globally\"\n",
    "      ],\n",
    "      \"relevance_sdg_indicators\": [\n",
    "          {'indicator': '11.7.1', 'indicator_description': 'Average share of the built-up area of cities that is open space for public use for all, by sex, age, and persons with disabilities'},\n",
    "          {'indicator': '11.7.2', 'indicator_description': 'Proportion of persons victim of physical or sexual harassment, by sex, age, disability status, and place of occurrence in the previous 12 months'},\n",
    "          {'indicator': '15.2.1', 'indicator_description': 'Progress towards sustainable forest management'},\n",
    "          {'indicator': '15.2.2', 'indicator_description': 'Net forest conversion rate'},\n",
    "          {'indicator': '15.2.3', 'indicator_description': 'Proportion of important sites for terrestrial and freshwater biodiversity that are covered by protected areas, by ecosystem type'}\n",
    "      ]\n",
    "    },    \n",
    "    \"output\":{\n",
    "      # \"challenges\": [\n",
    "      #   \"Lack of accessible public green spaces in urban areas, leading to reduced quality of life and environmental health.\",\n",
    "      #   \"Significant loss of trees along roadsides, impacting local biodiversity, aesthetics, and air quality.\"\n",
    "      # ],\n",
    "        \"challenge_topic\": \"Uban Green Space\",\n",
    "        \"challenge_description\": \"Lack of accessible public green spaces in urban areas, leading to reduced quality of life and environmental health.\",\n",
    "      \"indicators\": [\n",
    "        \"SDG_Indicator_11.7.1: This indicator reflects the need for more public green spaces in urban areas, aligning with the community's desire for accessible green spaces.\",\n",
    "        \"SDG_Indicator_15.2.1: Progress towards sustainable forest management is crucial for addressing the loss of roadside trees and promoting reforestation.\"\n",
    "      ],\n",
    "      \"solutions\": [\n",
    "        \"Develop and implement urban planning policies that prioritize the creation and maintenance of public green spaces, with a focus on inclusivity and accessibility for all demographic groups.\",\n",
    "        \"Initiate local tree planting and preservation campaigns, involving community members in the planting and care of trees, thus fostering a sense of ownership and responsibility towards local greenery.\",\n",
    "        \"Collaborate with environmental experts to identify and use tree species that are native to the area, more resilient, and require less maintenance, ensuring long-term sustainability.\",\n",
    "        \"Incorporate green spaces and tree preservation into school curricula and community programs to raise awareness and educate the public about the importance of urban greenery and sustainable environmental practices.\"\n",
    "      ]\n",
    "    }\n",
    "}\n"
   ]
  },
  {
   "cell_type": "code",
   "execution_count": 10,
   "id": "48191897-53af-40b1-9a7e-4d8a1b61b154",
   "metadata": {},
   "outputs": [],
   "source": [
    "prompt2 = ChatPromptTemplate.from_template(\"\"\"\n",
    "Form social post anylysis and the given sdg indicators, please anaylize challenges \n",
    "then select indicator and provide posible solutions \n",
    "that can fulfil the gap between user wishes and the indicator in the style of Bjorn Lomborg. \n",
    "return output only in json format\n",
    "\n",
    "### example social post anylysis\n",
    "{example_chain2_social_analysis}\n",
    "\n",
    "### example output json format\n",
    "{example_chain2_output}\n",
    "\n",
    "### social post anylysis\n",
    "{obj_social_analysis}\n",
    "\n",
    "### output json format\n",
    "\"\"\")\n",
    "\n",
    "chain2 = (\n",
    "    {\n",
    "        \"obj_social_analysis\": chain1, \n",
    "        \"example_chain2_social_analysis\": itemgetter(\"example_chain2_social_analysis\"),\n",
    "        \"example_chain2_output\": itemgetter(\"example_chain2_output\")\n",
    "    }\n",
    "    | prompt2\n",
    "    | model\n",
    "    | StrOutputParser()\n",
    ")\n",
    "\n",
    "\n",
    "post_data={\n",
    "    'example_province':chain1_example['province'],\n",
    "    'example_social_posts': '\\n'.join(chain1_example['social_posts']),\n",
    "    'example_output':chain1_example['output'],\n",
    "    'province':\"ปทุมธานี\",\n",
    "    'social_posts':'\\n'.join([\"เด็กเล็กในชุมชนสลัมไม่มีที่วิ่งเล่นต้องมาเล่นบนท้องถนน\",\"ชุมชนสลัมมีพื้นเพจากเพชรบูรณ์\"]),\n",
    "    'example_chain2_social_analysis':chain2_example['social_analysis'],\n",
    "    'example_chain2_output':chain2_example['output'],\n",
    "}\n"
   ]
  },
  {
   "cell_type": "code",
   "execution_count": 11,
   "id": "62ea11a5-b078-424e-b872-adba69750951",
   "metadata": {},
   "outputs": [
    {
     "data": {
      "text/plain": [
       "{'user_group': 'Local residents in Pathum Thani Province',\n",
       " 'psychological_analysis': 'The users are expressing concern for the safety and well-being of children in their community, as they do not have a safe place to play. This indicates a concern for child safety and the lack of recreational spaces.',\n",
       " 'sentiment_classification': 'negative',\n",
       " 'identified_concerns': {'child_safety': 'Lack of safe play areas for children',\n",
       "  'community_infrastructure': 'Inadequate recreational spaces in the community'},\n",
       " 'user_wishes': ['safe_play_areas: Wish for safe and designated play areas for children',\n",
       "  'improved_community_infrastructure: Desire for better community infrastructure and recreational spaces'],\n",
       " 'relevance_sdg_target': ['SDG_11.7 By 2030, provide universal access to safe, inclusive and accessible, green and public spaces, in particular for women and children, older persons and persons with disabilities',\n",
       "  'SDG_3.2 By 2030, end preventable deaths of newborns and children under 5 years of age'],\n",
       " 'relevance_sdg_indicators': [{'indicator': '3.2.1',\n",
       "   'indicator_description': 'Under-5 mortality rate'},\n",
       "  {'indicator': '3.2.2', 'indicator_description': 'Neonatal mortality rate'},\n",
       "  {'indicator': '11.7.1',\n",
       "   'indicator_description': 'Average share of the built-up area of cities that is open space for public use for all, by sex, age, and persons with disabilities'},\n",
       "  {'indicator': '11.7.2',\n",
       "   'indicator_description': 'Proportion of persons victim of physical or sexual harassment, by sex, age, disability status, and place of occurrence in the previous 12 months'}]}"
      ]
     },
     "execution_count": 11,
     "metadata": {},
     "output_type": "execute_result"
    }
   ],
   "source": [
    "c1=chain1.invoke(post_data)\n",
    "c1"
   ]
  },
  {
   "cell_type": "code",
   "execution_count": 12,
   "id": "2f9c89c8-54f1-43da-b438-3bcd2f09b637",
   "metadata": {},
   "outputs": [
    {
     "data": {
      "text/plain": [
       "'{\\n  \"challenge_topic\": \"Child Safety and Recreational Spaces\",\\n  \"challenge_description\": \"Lack of safe and designated play areas for children, leading to concerns for child safety and well-being in the community.\",\\n  \"indicators\": [\\n    \"SDG_Indicator_11.7.1: This indicator reflects the need for safe and inclusive recreational spaces for children, aligning with the community\\'s desire for designated play areas.\",\\n    \"SDG_Indicator_3.2.1: The under-5 mortality rate is impacted by the availability of safe play areas and recreational spaces for children, highlighting the importance of addressing this issue.\"\\n  ],\\n  \"solutions\": [\\n    \"Collaborate with local authorities to designate and develop safe play areas within the community, ensuring accessibility and inclusivity for all children, including those with disabilities.\",\\n    \"Implement community-led initiatives to create and maintain recreational spaces, involving parents, educators, and children in the planning and design process to ensure the spaces meet the specific needs of the community.\",\\n    \"Advocate for policies that prioritize child-friendly urban planning, integrating safe play areas into residential and public areas to promote the well-being and safety of children.\",\\n    \"Provide educational programs and resources to raise awareness about the importance of safe play areas for children and the impact on child mortality rates, engaging the community in advocating for and maintaining these spaces.\"\\n  ]\\n}'"
      ]
     },
     "execution_count": 12,
     "metadata": {},
     "output_type": "execute_result"
    }
   ],
   "source": [
    "c2=chain2.invoke(post_data)\n",
    "c2"
   ]
  },
  {
   "cell_type": "code",
   "execution_count": 13,
   "id": "dcbe374c-8909-4c33-8688-29785e63d407",
   "metadata": {},
   "outputs": [],
   "source": [
    "# Here's another example, but with a compound typed field.\n",
    "from langchain.output_parsers import PydanticOutputParser\n",
    "from langchain.prompts import PromptTemplate\n",
    "from langchain.pydantic_v1 import BaseModel, Field, validator\n",
    "from typing import List\n",
    "from langchain.output_parsers import OutputFixingParser\n",
    "\n",
    "class Challenge(BaseModel):\n",
    "    challenge_description: str = Field(description=\"a gap between the people wishes and the current situation\")\n",
    "    challenge_topic: str = Field(description=\"short name of the challenge\")\n",
    "    indicators: List[str] = Field(description=\"list of relevance SDG indicators\")\n",
    "    solutions: List[str] = Field(description=\"list of solutions for the challenges\")\n",
    "\n",
    "\n",
    "actor_query = \"Extract information from the social post analysis\"\n",
    "\n",
    "parser = PydanticOutputParser(pydantic_object=Challenge)\n",
    "\n",
    "prompt = PromptTemplate(\n",
    "    template=\"Answer the query.\\n{format_instructions}\\n{query}\\n\",\n",
    "    input_variables=[\"query\"],\n",
    "    partial_variables={\"format_instructions\": parser.get_format_instructions()},\n",
    ")\n",
    "\n",
    "# _input = prompt.format_prompt(query=actor_query)\n",
    "\n",
    "# output = model(_input.to_string())\n",
    "\n",
    "# parser.parse(c2)\n",
    "\n",
    "##new_parser = OutputFixingParser.from_llm(parser=parser, llm=ChatOpenAI())\n",
    "new_parser = OutputFixingParser.from_llm(parser=parser, llm=ChatOpenAI())\n",
    "\n",
    "chain3 = (\n",
    "    {\n",
    "        \"obj_social_analysis\": chain1, \n",
    "        \"example_chain2_social_analysis\": itemgetter(\"example_chain2_social_analysis\"),\n",
    "        \"example_chain2_output\": itemgetter(\"example_chain2_output\")\n",
    "    }\n",
    "    | prompt2\n",
    "    | model\n",
    "    | StrOutputParser()\n",
    "    |new_parser\n",
    ")\n",
    "c3=chain3.invoke(post_data)"
   ]
  },
  {
   "cell_type": "code",
   "execution_count": 14,
   "id": "8c8a38fb-644a-45fb-94f9-3cc698677af6",
   "metadata": {},
   "outputs": [
    {
     "data": {
      "text/plain": [
       "Challenge(challenge_description='Lack of safe and designated play areas for children, leading to concerns for child safety and well-being in the community.', challenge_topic='Child Safety and Recreational Spaces', indicators=[\"SDG_Indicator_11.7.1: This indicator reflects the need for safe and inclusive recreational spaces for children, aligning with the community's desire for designated play areas.\", 'SDG_Indicator_3.2.1: The under-5 mortality rate is impacted by the availability of safe play areas and recreational spaces for children, highlighting the importance of addressing this issue.'], solutions=['Collaborate with local authorities to designate and develop safe play areas within the community, ensuring accessibility and inclusivity for all children, including those with disabilities.', 'Implement community-led initiatives to create and maintain recreational spaces, involving parents, caregivers, and children in the planning and design process.', 'Advocate for policies that prioritize child-friendly urban planning, integrating safe play areas into the development of public spaces and infrastructure.', 'Provide educational programs and resources to raise awareness about the importance of safe play areas for children and the impact on child well-being and mortality rates.'])"
      ]
     },
     "execution_count": 14,
     "metadata": {},
     "output_type": "execute_result"
    }
   ],
   "source": [
    "c3"
   ]
  },
  {
   "cell_type": "code",
   "execution_count": null,
   "id": "e3dd756b-5270-451d-b08e-d343cc248772",
   "metadata": {},
   "outputs": [],
   "source": []
  },
  {
   "cell_type": "code",
   "execution_count": 15,
   "id": "d37bab17-ebee-4e39-afcd-f64fd5893ea2",
   "metadata": {},
   "outputs": [
    {
     "data": {
      "text/plain": [
       "'Child Safety and Recreational Spaces'"
      ]
     },
     "execution_count": 15,
     "metadata": {},
     "output_type": "execute_result"
    }
   ],
   "source": [
    "c3.challenge_topic"
   ]
  },
  {
   "cell_type": "code",
   "execution_count": 16,
   "id": "3e27c20a-3dcf-4b1c-87d4-752961a260b6",
   "metadata": {},
   "outputs": [
    {
     "data": {
      "text/plain": [
       "'Lack of safe and designated play areas for children, leading to concerns for child safety and well-being in the community.'"
      ]
     },
     "execution_count": 16,
     "metadata": {},
     "output_type": "execute_result"
    }
   ],
   "source": [
    "c3.challenge_description"
   ]
  },
  {
   "cell_type": "code",
   "execution_count": 17,
   "id": "374ff19d-5f5b-452e-9724-15e31512542e",
   "metadata": {},
   "outputs": [
    {
     "data": {
      "text/plain": [
       "[\"SDG_Indicator_11.7.1: This indicator reflects the need for safe and inclusive recreational spaces for children, aligning with the community's desire for designated play areas.\",\n",
       " 'SDG_Indicator_3.2.1: The under-5 mortality rate is impacted by the availability of safe play areas and recreational spaces for children, highlighting the importance of addressing this issue.']"
      ]
     },
     "execution_count": 17,
     "metadata": {},
     "output_type": "execute_result"
    }
   ],
   "source": [
    "c3.indicators"
   ]
  },
  {
   "cell_type": "code",
   "execution_count": 18,
   "id": "c0208de5-8e4d-47e6-a942-6602defd4805",
   "metadata": {},
   "outputs": [
    {
     "data": {
      "text/plain": [
       "['Collaborate with local authorities to designate and develop safe play areas within the community, ensuring accessibility and inclusivity for all children, including those with disabilities.',\n",
       " 'Implement community-led initiatives to create and maintain recreational spaces, involving parents, caregivers, and children in the planning and design process.',\n",
       " 'Advocate for policies that prioritize child-friendly urban planning, integrating safe play areas into the development of public spaces and infrastructure.',\n",
       " 'Provide educational programs and resources to raise awareness about the importance of safe play areas for children and the impact on child well-being and mortality rates.']"
      ]
     },
     "execution_count": 18,
     "metadata": {},
     "output_type": "execute_result"
    }
   ],
   "source": [
    "c3.solutions"
   ]
  },
  {
   "cell_type": "markdown",
   "id": "6283c066-e17f-4f69-9d48-e57162efd75b",
   "metadata": {},
   "source": [
    "### Unit Test"
   ]
  },
  {
   "cell_type": "code",
   "execution_count": 19,
   "id": "ce4fa3f2-f242-4cd0-a389-ce5ed1f78aaf",
   "metadata": {},
   "outputs": [],
   "source": [
    "post_data={\n",
    "        'example_province':chain1_example['province'],\n",
    "        'example_social_posts': '\\n'.join(chain1_example['social_posts']),\n",
    "        'example_output':chain1_example['output'],\n",
    "        'province':\"ปทุมธานี\",\n",
    "        'social_posts':'\\n'.join([\"ประเทศไทย\",\"นักเรียนจบแล้วมีทักษะไม่พร้อมสำหรับการทำงาน\"]),\n",
    "        'example_chain2_social_analysis':chain2_example['social_analysis'],\n",
    "        'example_chain2_output':chain2_example['output'],\n",
    "    }\n",
    "with open('template.json', 'w') as f:\n",
    "    json.dump(post_data, f)"
   ]
  },
  {
   "cell_type": "code",
   "execution_count": 21,
   "id": "2a1ed8ec-9db9-4b42-98e8-1848c1ed3f83",
   "metadata": {},
   "outputs": [
    {
     "data": {
      "text/plain": [
       "Challenge(challenge_description='Concerns about the readiness and skills of recent graduates for the workforce, leading to difficulties in transitioning from education to employment.', challenge_topic='Workforce Readiness and Skills Gap', indicators=[\"SDG_Indicator_4.4.1: This indicator reflects the need for relevant skills, including technical and vocational skills, aligning with the community's desire for improved education quality and skills development.\", 'SDG_Indicator_8.6.1: The proportion of youth not in education, employment, or training highlights the need for support in transitioning from education to employment, addressing the concerns expressed by the user group.'], solutions=['Enhance collaboration between educational institutions and industries to align curriculum with the skills needed in the workforce, ensuring graduates are equipped with relevant and practical skills.', 'Establish mentorship and internship programs to provide hands-on experience and guidance for students and recent graduates, facilitating a smoother transition into the workforce.', 'Promote the development of technical and vocational skills through government-supported training programs and initiatives, addressing the skills gap and increasing employability of young individuals.', 'Implement career counseling and guidance services to help students and recent graduates explore career options, develop job search skills, and make informed decisions about their future employment.'])"
      ]
     },
     "execution_count": 21,
     "metadata": {},
     "output_type": "execute_result"
    }
   ],
   "source": [
    "with open('template.json', 'r') as openfile:\n",
    "    template = json.load(openfile)\n",
    "c3=chain3.invoke(post_data)\n",
    "c3"
   ]
  },
  {
   "cell_type": "code",
   "execution_count": null,
   "id": "d2bd7f90-61e9-47ab-884a-d39467c93754",
   "metadata": {},
   "outputs": [],
   "source": [
    "### pack into a function"
   ]
  },
  {
   "cell_type": "code",
   "execution_count": 22,
   "id": "14774f0e-7d60-4377-b0d3-cc94b7b8b31f",
   "metadata": {},
   "outputs": [
    {
     "data": {
      "text/plain": [
       "{'challenge_topic': 'Job Readiness for Recent Graduates',\n",
       " 'challenge_description': 'Lack of job readiness and skills among recent graduates, leading to concerns about employment and entrepreneurship opportunities.',\n",
       " 'indicators': ['SDG_Indicator_4.4.1: The proportion of youth and adults with information and communications technology (ICT) skills reflects the need for relevant job skills among recent graduates.'],\n",
       " 'solutions': ['Enhance technical and vocational training programs to include ICT skills and other relevant job skills that are in demand in the current job market.',\n",
       "  'Establish partnerships between educational institutions and industry stakeholders to ensure that the curriculum is aligned with the needs of the workforce, providing practical training and internships opportunities.',\n",
       "  'Create mentorship and career counseling programs to guide recent graduates in developing the necessary skills and knowledge for successful employment and entrepreneurship.',\n",
       "  'Promote entrepreneurship and innovation through support programs, funding opportunities, and networking events to encourage recent graduates to pursue entrepreneurial ventures and create job opportunities for themselves and others.']}"
      ]
     },
     "execution_count": 22,
     "metadata": {},
     "output_type": "execute_result"
    }
   ],
   "source": [
    "def get_challenge_solutions(location=\"ประเทศไทย\",posts=[\"นักเรียนจบแล้วมีทักษะไม่พร้อมสำหรับการทำงาน\",]):\n",
    "    with open('template.json', 'r') as openfile:\n",
    "        template = json.load(openfile)\n",
    "    template['province']=location\n",
    "    template['social_posts']=posts\n",
    "    \n",
    "    c3=chain3.invoke(template)\n",
    "    d={}\n",
    "    d['challenge_topic']=c3.challenge_topic\n",
    "    d['challenge_description']=c3.challenge_description\n",
    "    d['indicators']=c3.indicators\n",
    "    d['solutions']=c3.solutions\n",
    "    return d\n",
    "get_challenge_solutions()"
   ]
  },
  {
   "cell_type": "code",
   "execution_count": 24,
   "id": "f84238a8-cbb7-474e-8eda-f94657712f22",
   "metadata": {},
   "outputs": [
    {
     "data": {
      "text/plain": [
       "{'challenge_topic': 'Climate Resilience',\n",
       " 'challenge_description': 'The need to strengthen resilience and adaptive capacity to climate-related hazards and natural disasters in Lampang Province.',\n",
       " 'indicators': ['SDG_Indicator_13.1.1: The number of deaths, missing persons, and directly affected persons attributed to disasters per 100,000 population is a key indicator for assessing the impact of climate-related hazards and natural disasters on the community.'],\n",
       " 'solutions': ['Implement and enforce building codes and land use regulations that consider climate-related hazards and natural disaster risks, ensuring the safety and resilience of infrastructure and communities.',\n",
       "  'Develop and implement early warning systems and emergency response plans that are accessible and inclusive for all residents and visitors, enabling timely and effective responses to climate-related hazards and natural disasters.',\n",
       "  'Invest in infrastructure and technology that can mitigate the impact of climate-related hazards, such as flood barriers, stormwater management systems, and green infrastructure to absorb excess water and reduce the risk of flooding.',\n",
       "  'Promote community engagement and education on climate resilience, encouraging residents and visitors to take proactive measures to prepare for and respond to climate-related hazards and natural disasters.']}"
      ]
     },
     "execution_count": 24,
     "metadata": {},
     "output_type": "execute_result"
    }
   ],
   "source": [
    "get_challenge_solutions('ลำปาง',['ลำปางอากาศร้อยมาก'])"
   ]
  },
  {
   "cell_type": "code",
   "execution_count": 26,
   "id": "0e94c8ba-ed05-4e17-9782-5a127626bc49",
   "metadata": {},
   "outputs": [
    {
     "data": {
      "text/plain": [
       "{'challenge_topic': 'Lost Phone and Lack of Response',\n",
       " 'challenge_description': 'Distress and frustration due to the loss of a phone and lack of response, leading to a sense of helplessness and desire for assistance and support.',\n",
       " 'indicators': [],\n",
       " 'solutions': ['Encourage the use of phone tracking apps and services to aid in the recovery of lost phones.',\n",
       "  'Establish community support networks or online platforms where individuals can seek assistance and advice in finding lost items, including phones.',\n",
       "  'Promote the importance of backing up data and securing personal devices to mitigate the impact of lost phones.',\n",
       "  'Educate the community on the proper steps to take when a phone is lost, including reporting to authorities and utilizing available resources for assistance.']}"
      ]
     },
     "execution_count": 26,
     "metadata": {},
     "output_type": "execute_result"
    }
   ],
   "source": [
    "get_challenge_solutions('นครศรีธรรมราช',\"\"\"\n",
    "ตามหาโทรศัพท์หายครับ รุ่น realme C17 สีน้ำเงิน ใส่เคสใสมีรูปนักเรียนอยู่หลังเคส ตกหล่นที่ถนนสายท่าซัก-ปากคร ช่วงเวลาประมาณ 17.00 น.\n",
    "หากใครพบเจอรบกวนช่วยติดต่อมาหน่อยนะครับ\n",
    "โทรไปหลายสายตั้งแต่ช่วงเย็นโทรติดแต่ไม่มีคนรับครับ และเมื่อเวลาประมาณ 19.00 น. โทรศัพท์ได้โดนปิดเครื่องไปแล้วครับ\n",
    "#หากใครพบเจอติดต่อทางเบอร์ 👉🏻0952837915👈🏻\n",
    "#ขอบคุณครับ🙏🏻\n",
    "\"\"\")"
   ]
  },
  {
   "cell_type": "code",
   "execution_count": 27,
   "id": "1b306f63-cdf8-4c8a-98cc-1de1a3cab2ca",
   "metadata": {},
   "outputs": [
    {
     "data": {
      "text/plain": [
       "{'challenge_topic': 'Lost Wallet and Assistance',\n",
       " 'challenge_description': 'Difficulty in retrieving a lost wallet and seeking assistance with card cancellation, leading to frustration and inconvenience for the individual.',\n",
       " 'indicators': [],\n",
       " 'solutions': ['Utilize local community forums and social media platforms to seek assistance from fellow residents or visitors who may have found the lost wallet.',\n",
       "  'Contact local authorities and businesses in the specific location where the wallet was lost to inquire about any found items or assistance with card cancellation.',\n",
       "  'Raise awareness about the importance of returning lost items and providing assistance to those in need within the community, fostering a culture of mutual support and cooperation.']}"
      ]
     },
     "execution_count": 27,
     "metadata": {},
     "output_type": "execute_result"
    }
   ],
   "source": [
    "get_challenge_solutions('ปทุมธานี',\"\"\"\n",
    "ผมลืมทำ กะเป๋าที่ตู้ฝากเงิน กสิกร  ข้าง7-11\n",
    "ตลาด ลาดสวาย ครับ\n",
    "ท่านได พบเห็น T  0927595133  ขอบัตร ทำงาน คืน ครับ  ขอบคุณ ครับ\n",
    "\"\"\")"
   ]
  },
  {
   "cell_type": "code",
   "execution_count": 28,
   "id": "9cc5ae9e-6a60-4cdd-95c1-89df250d8831",
   "metadata": {},
   "outputs": [
    {
     "data": {
      "text/plain": [
       "{'challenge_topic': 'Customer Service and Trust in Brands',\n",
       " 'challenge_description': 'Poor customer service and lack of trust in local businesses, leading to negative consumer experiences and potential disengagement from the market.',\n",
       " 'indicators': [],\n",
       " 'solutions': ['Implement customer service training programs for store staff, focusing on effective communication, problem-solving, and empathy towards customers.',\n",
       "  'Establish feedback mechanisms for customers to provide input on their experiences, allowing businesses to address concerns and improve service quality.',\n",
       "  'Promote transparency and accountability in business practices, building trust and confidence among consumers through clear and ethical communication.',\n",
       "  'Encourage local businesses to participate in community engagement activities and initiatives, fostering a sense of connection and responsibility towards their customers and the community as a whole.']}"
      ]
     },
     "execution_count": 28,
     "metadata": {},
     "output_type": "execute_result"
    }
   ],
   "source": [
    "get_challenge_solutions('พระนครศรีอยุธยา',\"\"\"\n",
    "เรื่องเกิดขึ้นร้อนๆค่ะ ด้วยความคับข้องใจและเสียผลประโยชน์\n",
    "วันนี้ 16.09.23 เวลาประมาณ 10.15 ไปเปิดกล้องวงจรที่ร้านดูได้เลยค่ะ ตั้งจะจะนำพ้อนในบัตรเครดิต KTC ไปแลกกาฟากกินฉ่ำๆๆ 399 แต้ม\n",
    "ไปถึงที่ร้านก็บอกพนักงานว่า แลกคะแนน KTC ค่ะ ก่อนก้มหน้า ก้มตาเข้าแอพเพื่อกดคูปองที่แลกไว้ให้พนักงานสแกน\n",
    "ระหว่างที่กำลังเข้าแอพพนักงานแคชเชียร์หันไปถามอีกคนว่าแลกคะแนนยังไง อีกคนบอกว่าที่ร้านไม่ได้รับแลก\n",
    "แต่!!!ชั้นเห็นสแตนตั้งหน้าเคสเตอร์ ของแต่ละโปรโมชั่นที่รับแลกกกกก ค่ายซิมมือต่างๆนานา และหนึ่งในนั้นคือ KTC\n",
    "\n",
    "และชั้นก็กดรับคูปองเตรียมให้สแกน(เป็นการยืนยันใช้คะแนนเรียบร้อย)\n",
    "สรุป แลกไม่ได้ ไม่รับแลก ด้วยเหตุอะไรไม่ทราบ พนักงานพร้อมเสนอให้ไปอีกสาขานึง\n",
    "คูปองเมื่อกดแล้วอยู่ได้ 15นาทีจ้าาาาาาาา ไปไม่ทันไงคะะะะ\n",
    "เสียคะแนนฟรีๆ399คะแนน ก็อยากให้พันธ์ไทยชี้แจงทีค่ะ แล้วก็ช่วยไปเทรนพนักงานให้มีความรู้มากพอด้วย\n",
    "😡😡\n",
    "\"\"\")"
   ]
  },
  {
   "cell_type": "code",
   "execution_count": 29,
   "id": "8432de22-3483-4cc0-a366-1ebb51416afd",
   "metadata": {},
   "outputs": [
    {
     "data": {
      "text/plain": [
       "{'challenge_topic': 'Enhancing Travel Experience',\n",
       " 'challenge_description': 'Desire for a fulfilling and enjoyable travel experience among local residents and tourists, indicating a positive outlook and anticipation for travel plans.',\n",
       " 'indicators': ['SDG_Indicator_3.4.1: The desire for a fulfilling travel experience aligns with the SDG target to promote mental health and well-being, as it reflects the importance of positive experiences and reducing stress-related health issues.',\n",
       "  'SDG_Indicator_8.9.1: The emphasis on creating a fulfilling travel experience is linked to the promotion of sustainable tourism and its contribution to local economic growth.'],\n",
       " 'solutions': ['Promote local cultural experiences and products to enhance the authenticity and enjoyment of the travel experience, supporting sustainable tourism and local economic development.',\n",
       "  'Provide accessible information and resources for tourists to engage in physical activities and outdoor experiences, promoting mental and physical well-being during travel.',\n",
       "  'Collaborate with local communities to develop and promote eco-friendly and sustainable tourism practices, ensuring that travel experiences contribute positively to the environment and local livelihoods.',\n",
       "  'Offer mental health and well-being resources and support for both residents and tourists, emphasizing the importance of positive experiences and stress reduction during travel.']}"
      ]
     },
     "execution_count": 29,
     "metadata": {},
     "output_type": "execute_result"
    }
   ],
   "source": [
    "get_challenge_solutions('นครพนม',\"\"\"\n",
    "จขกท มีทริปไปเที่ยงเชียงรายปลายเมษานี้ กับ นครพนมสกลนครมิถุนายนค่ะ\n",
    "\n",
    "เชียงราย พักในเมืองทุกวัน ตั้งใจไม่ไปค้างดอยค่ะ\n",
    "วันที่ 1 ศุกร์ ลงเครื่อง 12.40 รับรถเช่า ไปวัดร่องเสือเต้น วัดห้วยปลากั้ง วัดร่องขุ่น จบยามเย็นที่สิงห์ปาร์ค เข้าที่พัก\n",
    "วันที่ 2 เสาร์ ครึ่งเช้าไปไร่ชา 101 ดอยแม่สลอง ครึ่งบ่ายไร่ชาฉุยฟง กลับลงมาเข้าที่พัก\n",
    "วันที่ 3 อาทิตย์ ยังไม่มีโปรแกรมค่ะ \n",
    "วันที่ 4 จันทร์ ยังไม่มีโปรแกรมค่ะ  เครื่องออก 13.10 \n",
    "\n",
    "อยากขอคำแนะนำสถานที่เที่ยวในวันที่ 3 และ 4 รวมถึงร้านอาหารที่ต้องไปทานค่ะ\n",
    "\n",
    "นครพนมสกลนคร \n",
    "วันที่ 1 พฤหัส เครื่องลงนครพนม 09.10 รับรถเช่า ตีไปวัดพระธาตุท่าอุเทน วัดธาตุประสิทธิ์ เข้าสกลนคร วัดพระธาตุรารายณ์เจงเวง วัดอัมลการาม ปู่องค์ดำ แวะเก็บของที่โรงแรมในเมือง (ไปต่อที่ร้านครามสกล วัดถ้ำผาแด่น แล้วกลับมาพระธาตุเชิงชุมค่ะ) ในวงเล็บถ้าเหนื่อยจะเก็บไว้ไปวันรุ่งขึ้นค่ะ\n",
    "วันที่ 2 ศุกร์ (ร้านครามสกล วัดถ้ำผาแด่น แล้วกลับมาพระธาตุเชิงชุม) เข้านครพนม วัดพระธาตุศรีคุณ วัดพระธาตุพนม วัดธาตุเรณู วัดมรุกขนคร เข้าโรงแรม เย็นถนนคนเดิน\n",
    "วันที่ 3 เสาร์ พระธาตุนคร วัดธาตุมหาชัย \n",
    "วันที่ 4 กลับ กทม เครื่องออก 09.40 คงไม่ได้ทำอะไรค่ะ\n",
    "\n",
    "วันที่ 3 ดูจะว่างนาน มีโปรแกรมอะไรสามารถทำได้บ้างคะ ชี้เป้าร้านอาหารนครพนมสกลนครให้ด้วยนะคะ\n",
    "\"\"\")"
   ]
  },
  {
   "cell_type": "code",
   "execution_count": 30,
   "id": "a783eae1-7e65-4de1-899b-d67120b03053",
   "metadata": {},
   "outputs": [
    {
     "data": {
      "text/plain": [
       "{'challenge_topic': 'Accessibility of Public Transportation in Remote Areas',\n",
       " 'challenge_description': 'Limited availability of convenient and accessible public transportation options in remote areas, hindering the mobility and accessibility of local residents and tourists.',\n",
       " 'indicators': [\"SDG_Indicator_11.2.1: The indicator directly aligns with the community's wish for accessible public transportation, reflecting the need to improve convenient access to public transport for all demographic groups.\"],\n",
       " 'solutions': ['Invest in the expansion and improvement of public transportation infrastructure in remote areas, ensuring that all communities have convenient access to reliable transport options.',\n",
       "  'Implement community-based transportation initiatives, such as carpooling or shuttle services, to address the specific mobility needs of residents and tourists in remote areas.',\n",
       "  'Collaborate with local authorities and transportation providers to conduct regular assessments of transportation needs and develop tailored solutions to improve accessibility and convenience.',\n",
       "  'Introduce digital platforms or mobile applications that provide real-time information on public transportation schedules, routes, and availability, enhancing the convenience and accessibility of transport options for users.']}"
      ]
     },
     "execution_count": 30,
     "metadata": {},
     "output_type": "execute_result"
    }
   ],
   "source": [
    "get_challenge_solutions('แม่ฮ่องสอน',\"\"\"\n",
    "แพลนจะไป 3 ที่ ปางอุ๋ง บ้านรักไทย แล้วก็ ถ้ำน้ำลอด ปางมะผ้า \n",
    "ทั้ง 3 ที่นี้มีรถสาธารณะบริการเข้าถึงไหมครับ \n",
    "จากตัวเมืองแม่ฮ่องสอน ไป ปางอุ๋ง กับ บ้านรักไทย \n",
    "ออกมาแล้วขึ้นรถต่อไป บขส ปาย จะมีรถพาเข้าถ้ำไหม ขอบคุณครับ\n",
    "\"\"\")"
   ]
  },
  {
   "cell_type": "code",
   "execution_count": null,
   "id": "85c9e45a-e2ae-487f-8677-c8847eae2511",
   "metadata": {},
   "outputs": [],
   "source": []
  }
 ],
 "metadata": {
  "kernelspec": {
   "display_name": "Python 3 (ipykernel)",
   "language": "python",
   "name": "python3"
  },
  "language_info": {
   "codemirror_mode": {
    "name": "ipython",
    "version": 3
   },
   "file_extension": ".py",
   "mimetype": "text/x-python",
   "name": "python",
   "nbconvert_exporter": "python",
   "pygments_lexer": "ipython3",
   "version": "3.10.13"
  }
 },
 "nbformat": 4,
 "nbformat_minor": 5
}
