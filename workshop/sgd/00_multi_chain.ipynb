{
 "cells": [
  {
   "cell_type": "code",
   "execution_count": 10,
   "id": "1fa56b50",
   "metadata": {},
   "outputs": [],
   "source": [
    "# pip install python-dotenv openai langchain"
   ]
  },
  {
   "cell_type": "code",
   "execution_count": 11,
   "id": "a3533538-96be-4a90-bac8-b18758ce5917",
   "metadata": {},
   "outputs": [
    {
     "data": {
      "text/plain": [
       "True"
      ]
     },
     "execution_count": 11,
     "metadata": {},
     "output_type": "execute_result"
    }
   ],
   "source": [
    "from dotenv import load_dotenv\n",
    "load_dotenv()\n",
    "# import os\n",
    "# os.environ[\"OPENAI_API_KEY\"] = \"sk-...\""
   ]
  },
  {
   "cell_type": "code",
   "execution_count": 18,
   "id": "d24e3642",
   "metadata": {},
   "outputs": [
    {
     "data": {
      "text/plain": [
       "'เมือง ประยุทธ์ จันทร์โอชา นั้นอยู่ในประเทศไทย ครับ/ค่ะ โดยที่เป็นเมืองหลวงของประเทศไทยด้วย ครับ/ค่ะ'"
      ]
     },
     "execution_count": 18,
     "metadata": {},
     "output_type": "execute_result"
    }
   ],
   "source": [
    "from operator import itemgetter\n",
    "\n",
    "from langchain.chat_models import ChatOpenAI\n",
    "from langchain.prompts import ChatPromptTemplate\n",
    "from langchain.schema import StrOutputParser\n",
    "\n",
    "prompt1 = ChatPromptTemplate.from_template(\"what is the city {person} is from?\")\n",
    "prompt2 = ChatPromptTemplate.from_template(\n",
    "    \"what country is the city {city} in? respond in {language}\"\n",
    ")\n",
    "\n",
    "model = ChatOpenAI(\n",
    "    # model='gpt-3.5-turbo-16k-0613',\n",
    "    model='gpt-3.5-turbo-1106',\n",
    "    temperature = 0.1\n",
    ")\n",
    "\n",
    "chain1 = prompt1 | model | StrOutputParser()\n",
    "\n",
    "chain2 = (\n",
    "    {\"city\": chain1, \"language\": itemgetter(\"language\")}\n",
    "    | prompt2\n",
    "    | model\n",
    "    | StrOutputParser()\n",
    ")\n",
    "\n",
    "chain2.invoke({\"person\": \"ประยุทธ์ จันทร์โอชา\", \"language\": \"Thai\"})"
   ]
  },
  {
   "cell_type": "code",
   "execution_count": 19,
   "id": "364ae507",
   "metadata": {},
   "outputs": [],
   "source": [
    "wish=\"\"\"I wish there's a plastic packaging development service in Pathum thani, Thailand\"\"\"\n",
    "f1=\"\"\"Generate digital startup ideas based on the wishes of the people.For example, when I say \"{wish}\", you generate a business plan for the digital startup complete with idea name, a short one liner, target user persona, user's pain points to solve, main value propositions, sales & marketing channels, revenue stream sources, cost structures, key activities, key resources, key partners, idea validation steps, estimated 1st year cost of operation, and potential business challenges to look for.\"\"\"\n",
    "prompt_f1=ChatPromptTemplate.from_template(f1) #idea\n",
    "\n",
    "f2=\"\"\"\n",
    "from the business idea, please create Mike Chon's user stories with acceptance criteria;\n",
    "\n",
    "# Mike Chon's user stories format\n",
    "As a <user_role>, I want <goal>, so that <benefit>\n",
    "\n",
    "#business idea\n",
    "{idea}\n",
    "\"\"\"\n",
    "prompt_f2=ChatPromptTemplate.from_template(f2) #user_story\n",
    "\n",
    "\n",
    "chain_f1 = prompt_f1 | model | StrOutputParser()\n",
    "chain_f2 = (\n",
    "    {\"idea\": chain_f1}\n",
    "    | prompt_f2\n",
    "    | model\n",
    "    | StrOutputParser()\n",
    ")\n",
    "user_story=chain_f2.invoke({\"wish\": wish})"
   ]
  },
  {
   "cell_type": "code",
   "execution_count": 31,
   "id": "d51934e5-338d-4447-9f5b-28ec4ee9d93a",
   "metadata": {},
   "outputs": [
    {
     "name": "stdout",
     "output_type": "stream",
     "text": [
      "Idea Name: EcoPack Solutions\n",
      "\n",
      "One Liner: A digital platform connecting businesses in Pathum Thani, Thailand with sustainable plastic packaging development services.\n",
      "\n",
      "Target User Persona: Small to medium-sized businesses in Pathum Thani, Thailand looking for eco-friendly packaging solutions.\n",
      "\n",
      "User's Pain Points to Solve:\n",
      "1. Limited access to sustainable packaging options in the local market.\n",
      "2. High costs associated with importing eco-friendly packaging materials.\n",
      "3. Lack of knowledge and expertise in developing and implementing sustainable packaging solutions.\n",
      "\n",
      "Main Value Propositions:\n",
      "1. Access to a wide range of sustainable packaging materials and development services.\n",
      "2. Cost-effective and locally sourced solutions.\n",
      "3. Expert guidance and support in implementing sustainable packaging practices.\n",
      "\n",
      "Sales & Marketing Channels:\n",
      "1. Online advertising and social media marketing targeting local businesses.\n",
      "2. Partnerships with local industry associations and trade shows.\n",
      "3. Direct sales outreach to businesses in the area.\n",
      "\n",
      "Revenue Stream Sources:\n",
      "1. Service fees for connecting businesses with packaging development services.\n",
      "2. Commission on sales of sustainable packaging materials.\n",
      "3. Subscription model for premium access to additional resources and support.\n",
      "\n",
      "Cost Structures:\n",
      "1. Technology development and maintenance.\n",
      "2. Marketing and sales expenses.\n",
      "3. Staff salaries and operational costs.\n",
      "\n",
      "Key Activities:\n",
      "1. Building and maintaining the digital platform.\n",
      "2. Curating and vetting sustainable packaging service providers.\n",
      "3. Providing support and resources to businesses implementing sustainable packaging solutions.\n",
      "\n",
      "Key Resources:\n",
      "1. Technology infrastructure for the digital platform.\n",
      "2. Network of sustainable packaging service providers.\n",
      "3. Marketing and sales team.\n",
      "\n",
      "Key Partners:\n",
      "1. Local sustainable packaging manufacturers and suppliers.\n",
      "2. Industry associations and trade organizations.\n",
      "3. Government agencies promoting sustainable practices.\n",
      "\n",
      "Idea Validation Steps:\n",
      "1. Survey local businesses to assess demand for sustainable packaging solutions.\n",
      "2. Reach out to potential packaging service providers to gauge interest and availability.\n",
      "3. Pilot the platform with a select group of businesses to test usability and effectiveness.\n",
      "\n",
      "Estimated 1st Year Cost of Operation:\n",
      "- Technology development and maintenance: $50,000\n",
      "- Marketing and sales expenses: $30,000\n",
      "- Staff salaries and operational costs: $100,000\n",
      "Total: $180,000\n",
      "\n",
      "Potential Business Challenges to Look For:\n",
      "1. Resistance to change from businesses accustomed to traditional packaging methods.\n",
      "2. Finding reliable and cost-effective sustainable packaging service providers in the local market.\n",
      "3. Navigating regulatory and compliance issues related to packaging materials and practices.\n"
     ]
    }
   ],
   "source": [
    "print(chain_f1.invoke({\"wish\": wish}))"
   ]
  },
  {
   "cell_type": "code",
   "execution_count": 22,
   "id": "f681564a",
   "metadata": {},
   "outputs": [
    {
     "name": "stdout",
     "output_type": "stream",
     "text": [
      "User Stories for Mike Chon's EcoPack Solutions:\n",
      "\n",
      "1. As a small to medium-sized business owner in Pathum Thani, Thailand, I want to easily find sustainable packaging options, so that I can reduce my environmental impact and meet consumer demands for eco-friendly products.\n",
      "\n",
      "Acceptance Criteria:\n",
      "- The platform should have a user-friendly interface for easy navigation.\n",
      "- The search function should allow me to filter packaging options by material, size, and cost.\n",
      "- The platform should provide detailed information on the sustainability and environmental impact of each packaging option.\n",
      "\n",
      "2. As a business owner in the food and beverage industry in Pathum Thani, Thailand, I want expert guidance on eco-friendly materials, so that I can make informed decisions about sustainable packaging for my products.\n",
      "\n",
      "Acceptance Criteria:\n",
      "- The platform should offer resources such as articles, videos, and webinars on sustainable packaging materials and their benefits.\n",
      "- The platform should provide access to packaging experts for personalized consultations and advice.\n",
      "- The information provided should be clear and easy to understand, even for users with limited knowledge of sustainable materials.\n",
      "\n",
      "3. As a small business owner in Pathum Thani, Thailand, I want cost-effective solutions for transitioning to sustainable packaging, so that I can make the switch without significantly impacting my budget.\n",
      "\n",
      "Acceptance Criteria:\n",
      "- The platform should offer a range of packaging options at competitive prices compared to traditional suppliers.\n",
      "- The platform should provide cost-saving tips and strategies for transitioning to sustainable packaging.\n",
      "- The platform should offer discounts or special offers for businesses looking to make the switch.\n",
      "\n",
      "4. As a business owner in Pathum Thani, Thailand, I want support in transitioning to sustainable packaging, so that I can ensure a smooth and successful implementation of eco-friendly materials.\n",
      "\n",
      "Acceptance Criteria:\n",
      "- The platform should facilitate communication and negotiations between businesses and packaging suppliers.\n",
      "- The platform should offer assistance in sample testing and prototyping of sustainable packaging options.\n",
      "- The platform should provide guidance on the logistics and practicalities of transitioning to sustainable packaging, such as storage and transportation considerations.\n",
      "\n",
      "By addressing these user stories and meeting their acceptance criteria, Mike Chon's EcoPack Solutions can effectively cater to the needs of businesses in Pathum Thani, Thailand, and provide them with the necessary resources and support to make the switch to sustainable packaging.\n"
     ]
    }
   ],
   "source": [
    "print(user_story)"
   ]
  },
  {
   "cell_type": "code",
   "execution_count": null,
   "id": "a862f0af",
   "metadata": {},
   "outputs": [],
   "source": []
  },
  {
   "cell_type": "code",
   "execution_count": null,
   "id": "d495c395-f0cb-479e-8163-512e4f6c0dbe",
   "metadata": {},
   "outputs": [],
   "source": []
  },
  {
   "cell_type": "code",
   "execution_count": null,
   "id": "3bf5142a-9025-48f3-b155-532a79bc5cd3",
   "metadata": {},
   "outputs": [],
   "source": []
  }
 ],
 "metadata": {
  "kernelspec": {
   "display_name": "Python 3 (ipykernel)",
   "language": "python",
   "name": "python3"
  },
  "language_info": {
   "codemirror_mode": {
    "name": "ipython",
    "version": 3
   },
   "file_extension": ".py",
   "mimetype": "text/x-python",
   "name": "python",
   "nbconvert_exporter": "python",
   "pygments_lexer": "ipython3",
   "version": "3.10.13"
  }
 },
 "nbformat": 4,
 "nbformat_minor": 5
}
